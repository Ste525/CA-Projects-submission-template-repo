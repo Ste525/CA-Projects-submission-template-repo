{
 "cells": [
  {
   "cell_type": "markdown",
   "id": "cb1dfa0f",
   "metadata": {},
   "source": [
    "# GROUP AMSTERDAM - WEEK ONE "
   ]
  },
  {
   "cell_type": "markdown",
   "id": "55770d9a",
   "metadata": {},
   "source": [
    "# Project Title: Understanding the Indian Start-up Ecosystem: Analysis and Recommendations"
   ]
  },
  {
   "cell_type": "markdown",
   "id": "278c25b1",
   "metadata": {},
   "source": [
    "# Project Description: This project aims to provide insights into the Indian start-up ecosystem, including its current state, trends, and potential opportunities for growth. Through data analysis and visualization, we aim to identify key areas of focus for our team to enter the market and make a significant impact."
   ]
  },
  {
   "cell_type": "markdown",
   "id": "9afbf904",
   "metadata": {},
   "source": [
    "# Question\n",
    "# 1. Which type of start-up location gets the most funding?\n",
    "# 2. At which stage do start-ups get more funding from investors?\n",
    "# 3. Which type of investors invest the most money?\n",
    "# 4. Which type of investors invested the least money?\n",
    "# 5. What is the percentage of Technology and Non-Technology in the Indian Start-up?"
   ]
  },
  {
   "cell_type": "markdown",
   "id": "75249373",
   "metadata": {},
   "source": [
    "# Hypothesis\n",
    "The method of hypothesis testing involves performing statistical tests on a sample to generate inferences or conclusions about the whole dataset.\n",
    "\n",
    "To further analyze the data, we developed the null and alternate hypothesis to focus on two groups; Technology-biased startups and non-tech biased startups. So the two hypothesis are as follows;\n",
    "\n",
    "NULL: Mumbai is the primary hub for startups in Indian\n",
    "\n",
    "\n",
    "ALTERNATE: Mumbai is not the primary hub for starts in Indian"
   ]
  },
  {
   "cell_type": "markdown",
   "id": "48b22d12",
   "metadata": {},
   "source": [
    "# DATA UNDERSTANDING - WEEK TWO "
   ]
  },
  {
   "cell_type": "markdown",
   "id": "04915f35",
   "metadata": {},
   "source": [
    "This dataset has funding information of the Indian startups from 2018 to August 2021. It includes columns with the date funded, the city the startup is based, the names of the funders, and the amount invested"
   ]
  },
  {
   "cell_type": "markdown",
   "id": "948a5c28",
   "metadata": {},
   "source": [
    "# Library importation"
   ]
  },
  {
   "cell_type": "code",
   "execution_count": 3,
   "id": "82c81e44",
   "metadata": {},
   "outputs": [
    {
     "name": "stderr",
     "output_type": "stream",
     "text": [
      "C:\\Users\\user\\anaconda3\\lib\\site-packages\\scipy\\__init__.py:138: UserWarning: A NumPy version >=1.16.5 and <1.23.0 is required for this version of SciPy (detected version 1.24.2)\n",
      "  warnings.warn(f\"A NumPy version >={np_minversion} and <{np_maxversion} is required for this version of \"\n"
     ]
    }
   ],
   "source": [
    "# Data handling\n",
    "import numpy as np \n",
    "import pandas as pd \n",
    "import glob\n",
    "\n",
    "# Vizualisation (Matplotlib, Plotly, Seaborn, etc. )\n",
    "import matplotlib.ticker as ticker\n",
    "import matplotlib.pyplot as plt \n",
    "%matplotlib inline \n",
    "import seaborn as sns \n",
    "sns.set_style('whitegrid')\n",
    "\n",
    "# import plotly.express as px\n",
    "\n",
    "\n",
    "from scipy import stats\n",
    "\n",
    "from scipy.stats import pearsonr\n",
    "\n",
    "from scipy.stats import chi2_contingency\n",
    "import plotly.express as px\n",
    "\n",
    "import seaborn as sns\n",
    "import matplotlib.pyplot as plt\n",
    "\n",
    "# Other packages\n",
    "import os\n",
    "import re\n",
    "#display all columns and rows \n",
    "pd.set_option('display.max_columns', None)\n",
    "pd.set_option('display.max_rows', None)\n",
    "from sklearn.impute import SimpleImputer\n",
    "\n",
    "\n",
    "import warnings\n",
    "warnings.filterwarnings('ignore')"
   ]
  },
  {
   "cell_type": "markdown",
   "id": "46d1070d",
   "metadata": {},
   "source": [
    "# Dataset Importation"
   ]
  },
  {
   "cell_type": "code",
   "execution_count": null,
   "id": "4d2e134d",
   "metadata": {},
   "outputs": [],
   "source": [
    "# importing 2018 data separate it has different form from the other ones\n",
    "startup2018=pd.read_csv('startup_funding2018.csv',\n",
    "                       usecols = ['Company Name', 'Industry', 'Round/Series', 'Amount','Location'])\n"
   ]
  },
  {
   "cell_type": "code",
   "execution_count": null,
   "id": "e343d530",
   "metadata": {},
   "outputs": [],
   "source": [
    "startup2018"
   ]
  },
  {
   "cell_type": "code",
   "execution_count": null,
   "id": "e547537f",
   "metadata": {},
   "outputs": [],
   "source": [
    "# renaming columns for consistency\n",
    "# Industry = sector \n",
    "# Round/Series = stage\n",
    "startup2018.rename(columns ={'Industry':'Sector'}, inplace = True)\n",
    "startup2018.rename(columns ={'Round/Series':'Stage'}, inplace = True)\n",
    "startup2018.rename(columns ={'Amount':'Amount($)'}, inplace = True)\n",
    "# adding new column funding year\n",
    "startup2018['Funding Year']= \"2018\"\n",
    "\n",
    "# Changing the founding year into integer\n",
    "startup2018['Funding Year'] =startup2018['Funding Year'].astype(int)\n"
   ]
  },
  {
   "cell_type": "code",
   "execution_count": null,
   "id": "4906371e",
   "metadata": {},
   "outputs": [],
   "source": [
    "startup2018.head()"
   ]
  },
  {
   "cell_type": "code",
   "execution_count": null,
   "id": "4419afc7",
   "metadata": {},
   "outputs": [],
   "source": [
    "startup2018['Funding Year'].dtypes"
   ]
  },
  {
   "cell_type": "code",
   "execution_count": null,
   "id": "c52a5cad",
   "metadata": {},
   "outputs": [],
   "source": [
    "startup2018.info()"
   ]
  },
  {
   "cell_type": "markdown",
   "id": "acd9e2f1",
   "metadata": {},
   "source": [
    "Taking  a deep look at the dataset across the years, certain columns were common in all the datasets and were deemed important in the analysis. so in importing the datasets, specific columns were imported. These included Company Name, Industry, Round/Series, Amount and Location\n",
    "\n",
    "\n",
    "To ensure consistency, some columns were renamed to match the columns in the dataset of subsequent years. Industry was renamed to Sector and Round/Series to Stage\n",
    "\n",
    "\n",
    "A new column named Funding Year was also added to each dataset and all rows were assigned the value 2018, depending on the dataset. \n",
    "\n",
    "\n",
    "With the exception of 2018, all the other datasets had other relevant columns such as the year the startup was founded as well as the investor that provided funding. these columns were imported because there was a need to understand if the number of years that a startup had been"
   ]
  },
  {
   "cell_type": "markdown",
   "id": "dbbf2f27",
   "metadata": {},
   "source": [
    "# DATA CLEANING "
   ]
  },
  {
   "cell_type": "markdown",
   "id": "439e4f16",
   "metadata": {},
   "source": [
    "The data cleaning phase follows the following trends"
   ]
  },
  {
   "cell_type": "markdown",
   "id": "3daa54c1",
   "metadata": {},
   "source": [
    "# Univariate Analysis"
   ]
  },
  {
   "cell_type": "markdown",
   "id": "e460f794",
   "metadata": {},
   "source": [
    "cleaning the Location clumns"
   ]
  },
  {
   "cell_type": "code",
   "execution_count": null,
   "id": "833e69da",
   "metadata": {},
   "outputs": [],
   "source": [
    "# Maintaining only the first city \n",
    "startup2018['Location']=startup2018.Location.str.split(',').str[0]\n",
    "startup2018['Location'].head()"
   ]
  },
  {
   "cell_type": "markdown",
   "id": "b339d2a4",
   "metadata": {},
   "source": [
    "Here we have been able to remove all the cities after the comma"
   ]
  },
  {
   "cell_type": "markdown",
   "id": "f0696cd0",
   "metadata": {},
   "source": [
    "Sector column"
   ]
  },
  {
   "cell_type": "code",
   "execution_count": null,
   "id": "57d50d0b",
   "metadata": {},
   "outputs": [],
   "source": [
    "# Maintaining only the first sector\n",
    "startup2018['Sector']=startup2018.Sector.str.split(',').str[0]\n",
    "startup2018['Sector'].head()"
   ]
  },
  {
   "cell_type": "code",
   "execution_count": null,
   "id": "1d5b46cc",
   "metadata": {},
   "outputs": [],
   "source": []
  },
  {
   "cell_type": "code",
   "execution_count": null,
   "id": "edaa2e67",
   "metadata": {},
   "outputs": [],
   "source": [
    "startup2018.dropna(subset=['Amount($)'], inplace=True)"
   ]
  },
  {
   "cell_type": "code",
   "execution_count": null,
   "id": "2fa23ef3",
   "metadata": {},
   "outputs": [],
   "source": [
    "startup2018.head()"
   ]
  },
  {
   "cell_type": "code",
   "execution_count": null,
   "id": "55f41600",
   "metadata": {},
   "outputs": [],
   "source": [
    "startup2018.loc[get_index,['Amount($)']] = pd.to_numeric(startup2018.loc[get_index,['Amount($)']].squeeze(), errors='coerce') * 0.012"
   ]
  },
  {
   "cell_type": "code",
   "execution_count": null,
   "id": "2f042bc1",
   "metadata": {},
   "outputs": [],
   "source": [
    "startup2018.dropna(subset=['Amount($)'], inplace=True)\n"
   ]
  },
  {
   "cell_type": "markdown",
   "id": "cc553c57",
   "metadata": {},
   "source": [
    "We realizing that the amount column is in object data type we needed to change to numeric datatype"
   ]
  },
  {
   "cell_type": "code",
   "execution_count": null,
   "id": "31e0744e",
   "metadata": {},
   "outputs": [],
   "source": [
    "# getting the index all rows in the column amount that has rupees\n",
    "get_index=startup2018.index[startup2018['Amount($)'].str.contains('₹')]\n",
    "\n",
    "# charging the rows in rupees to dollars using standard rate \n",
    "\n",
    "startup2018.loc[get_index,['Amount($)']]=startup2018.loc[get_index,['Amount($)']].values*0.012\n",
    "\n",
    "startup2018.loc[:,['Amount($)']].head()\n"
   ]
  },
  {
   "cell_type": "code",
   "execution_count": null,
   "id": "dca7ee4d",
   "metadata": {},
   "outputs": [],
   "source": [
    "# startup2018.loc[get_index,['Amount']] = pd.to_numeric(startup2018.loc[get_index,['Amount']].squeeze(), errors='coerce') * 0.012"
   ]
  },
  {
   "cell_type": "code",
   "execution_count": null,
   "id": "79415794",
   "metadata": {},
   "outputs": [],
   "source": [
    "# Removing the symbols and commas from the amount column ₹, $, and ,\n",
    "startup2018['Amount($)'] = startup2018['Amount($)'].apply(lambda x: str(x).replace('₹', ''))\n",
    "startup2018['Amount($)'] = startup2018['Amount($)'].apply(lambda x: str(x).replace('$', ''))\n",
    "startup2018['Amount($)'] = startup2018['Amount($)'].apply(lambda x: str(x).replace(',', ''))"
   ]
  },
  {
   "cell_type": "code",
   "execution_count": null,
   "id": "4c58f772",
   "metadata": {},
   "outputs": [],
   "source": [
    "startup2018.head()"
   ]
  },
  {
   "cell_type": "markdown",
   "id": "19794e0e",
   "metadata": {},
   "source": [
    "Now we have agreed as a group that any amount without the synbol is considered as dollar \n",
    "hence all amount are in dollars"
   ]
  },
  {
   "cell_type": "code",
   "execution_count": null,
   "id": "51ec1fa2",
   "metadata": {},
   "outputs": [],
   "source": [
    "startup2018['Amount($)']=pd.to_numeric(startup2018['Amount($)'], errors='coerce')"
   ]
  },
  {
   "cell_type": "code",
   "execution_count": null,
   "id": "9e6db367",
   "metadata": {},
   "outputs": [],
   "source": [
    "startup2018.info()"
   ]
  },
  {
   "cell_type": "markdown",
   "id": "16b084b7",
   "metadata": {},
   "source": [
    "Dropping duplicate rows"
   ]
  },
  {
   "cell_type": "code",
   "execution_count": null,
   "id": "066b3d53",
   "metadata": {},
   "outputs": [],
   "source": [
    "startup2018= startup2018.drop_duplicates(keep='first')"
   ]
  },
  {
   "cell_type": "code",
   "execution_count": null,
   "id": "36a8a941",
   "metadata": {},
   "outputs": [],
   "source": [
    "startup2018.head()"
   ]
  },
  {
   "cell_type": "code",
   "execution_count": null,
   "id": "54d96937",
   "metadata": {},
   "outputs": [],
   "source": [
    "startup2018.to_csv('cleaned_2018.csv')"
   ]
  },
  {
   "cell_type": "markdown",
   "id": "e0b9788e",
   "metadata": {},
   "source": [
    "Replace the undisclosed values with np.nan"
   ]
  },
  {
   "cell_type": "markdown",
   "id": "a91598c0",
   "metadata": {},
   "source": [
    "Importing the 2019, 2020 and 2021 datasets"
   ]
  },
  {
   "cell_type": "code",
   "execution_count": null,
   "id": "1dcad6f6",
   "metadata": {},
   "outputs": [],
   "source": [
    "startup2018=pd.read_csv('cleaned_2018.csv')\n",
    "startup2019=pd.read_csv('startup_funding2019.csv')\n",
    "startup2020=pd.read_csv('startup_funding2020.csv')\n",
    "startup2021=pd.read_csv('startup_funding2021.csv')"
   ]
  },
  {
   "cell_type": "code",
   "execution_count": null,
   "id": "495e6703",
   "metadata": {},
   "outputs": [],
   "source": [
    "startup2018.head()"
   ]
  },
  {
   "cell_type": "code",
   "execution_count": null,
   "id": "3e1b8bc9",
   "metadata": {},
   "outputs": [],
   "source": [
    "startup2019.head()"
   ]
  },
  {
   "cell_type": "code",
   "execution_count": null,
   "id": "1caf77e2",
   "metadata": {},
   "outputs": [],
   "source": [
    "startup2019.head()"
   ]
  },
  {
   "cell_type": "code",
   "execution_count": null,
   "id": "75c427c5",
   "metadata": {},
   "outputs": [],
   "source": [
    "# Renaming columns to suit dataset in 2018\n",
    "startup2019.rename(columns ={'Founded':'Funding Year'}, inplace = True)\n",
    "startup2019.rename(columns ={'HeadQuarter':'Location'}, inplace = True)\n",
    "startup2019.rename(columns ={'Company/Brand':'Company Name'}, inplace = True)\n"
   ]
  },
  {
   "cell_type": "code",
   "execution_count": null,
   "id": "3edca56e",
   "metadata": {},
   "outputs": [],
   "source": [
    "startup2019.head()"
   ]
  },
  {
   "cell_type": "code",
   "execution_count": null,
   "id": "5b6c7f47",
   "metadata": {},
   "outputs": [],
   "source": [
    "startup2020.rename(columns ={'Founded':'Funding Year'}, inplace = True)\n",
    "startup2020.rename(columns ={'HeadQuarter':'Location'}, inplace = True)\n",
    "startup2020.rename(columns ={'Company/Brand':'Company Name'}, inplace = True)"
   ]
  },
  {
   "cell_type": "code",
   "execution_count": null,
   "id": "04e329c5",
   "metadata": {},
   "outputs": [],
   "source": [
    "startup2020.head()"
   ]
  },
  {
   "cell_type": "code",
   "execution_count": null,
   "id": "4abe7828",
   "metadata": {},
   "outputs": [],
   "source": [
    "# startup2020.drop(['Unnamed: 9'], axis=1, inplace=True)"
   ]
  },
  {
   "cell_type": "code",
   "execution_count": null,
   "id": "c57a5bd9",
   "metadata": {},
   "outputs": [],
   "source": [
    "startup2020.head()"
   ]
  },
  {
   "cell_type": "code",
   "execution_count": null,
   "id": "efd1d1c7",
   "metadata": {},
   "outputs": [],
   "source": [
    "startup2018.head()"
   ]
  },
  {
   "cell_type": "code",
   "execution_count": null,
   "id": "721175fd",
   "metadata": {},
   "outputs": [],
   "source": [
    "startup2021.rename(columns ={'Founded':'Funding Year'}, inplace = True)\n",
    "startup2021.rename(columns ={'HeadQuarter':'Location'}, inplace = True)\n",
    "startup2021.rename(columns ={'Company/Brand':'Company Name'}, inplace = True)"
   ]
  },
  {
   "cell_type": "code",
   "execution_count": null,
   "id": "59d615fe",
   "metadata": {},
   "outputs": [],
   "source": [
    "startup2021.head()"
   ]
  },
  {
   "cell_type": "code",
   "execution_count": null,
   "id": "5293b4f3",
   "metadata": {},
   "outputs": [],
   "source": [
    "startup2019.to_csv('cleaned_2019.csv')\n",
    "startup2020.to_csv('cleaned_2020.csv')\n",
    "startup2021.to_csv('cleaned_2021.csv')"
   ]
  },
  {
   "cell_type": "markdown",
   "id": "c6ae9261",
   "metadata": {},
   "source": [
    "# importing 2018, 2019, 2020 and 2021 dataset together"
   ]
  },
  {
   "cell_type": "code",
   "execution_count": 5,
   "id": "88b84280",
   "metadata": {},
   "outputs": [
    {
     "data": {
      "text/plain": [
       "['cleaned_2018.csv',\n",
       " 'cleaned_2019.csv',\n",
       " 'cleaned_2020.csv',\n",
       " 'cleaned_2021.csv']"
      ]
     },
     "execution_count": 5,
     "metadata": {},
     "output_type": "execute_result"
    }
   ],
   "source": [
    "csv_files = glob.glob('*.{}'.format('csv'))\n",
    "csv_files"
   ]
  },
  {
   "cell_type": "code",
   "execution_count": 6,
   "id": "4e2c2b3c",
   "metadata": {},
   "outputs": [],
   "source": [
    "#Reading the data as DataFrame\n",
    "data_final=pd.DataFrame()\n",
    "\n",
    "for file in csv_files:\n",
    "    df=pd.read_csv(file)\n",
    "\n",
    "    data_final=data_final.append(df, ignore_index=True)"
   ]
  },
  {
   "cell_type": "code",
   "execution_count": 9,
   "id": "ecf23568",
   "metadata": {},
   "outputs": [],
   "source": [
    "# data_final=pd.concat([pd.read_csv(file) for file in csv_files],ignore_index=True)\n",
    "# data_final"
   ]
  },
  {
   "cell_type": "code",
   "execution_count": 7,
   "id": "2694b3c2",
   "metadata": {},
   "outputs": [
    {
     "data": {
      "text/plain": [
       "Index(['Unnamed: 0.1', 'Unnamed: 0', 'Company Name', 'Sector', 'Stage',\n",
       "       'Amount($)', 'Location', 'Funding Year', 'What it does', 'Founders',\n",
       "       'Investor', 'Unnamed: 9'],\n",
       "      dtype='object')"
      ]
     },
     "execution_count": 7,
     "metadata": {},
     "output_type": "execute_result"
    }
   ],
   "source": [
    "data_final.columns"
   ]
  },
  {
   "cell_type": "code",
   "execution_count": 8,
   "id": "0c8cffa0",
   "metadata": {},
   "outputs": [],
   "source": [
    "data_final.drop(['Unnamed: 9'], axis=1, inplace=True)\n",
    "data_final.drop(['Unnamed: 0'], axis=1, inplace=True)\n",
    "data_final.drop(['What it does'], axis=1, inplace=True)\n",
    "data_final.drop(['Unnamed: 0.1'], axis=1, inplace=True)"
   ]
  },
  {
   "cell_type": "code",
   "execution_count": 9,
   "id": "261acc4f",
   "metadata": {},
   "outputs": [
    {
     "data": {
      "text/plain": [
       "Index(['Company Name', 'Sector', 'Stage', 'Amount($)', 'Location',\n",
       "       'Funding Year', 'Founders', 'Investor'],\n",
       "      dtype='object')"
      ]
     },
     "execution_count": 9,
     "metadata": {},
     "output_type": "execute_result"
    }
   ],
   "source": [
    "data_final.columns"
   ]
  },
  {
   "cell_type": "code",
   "execution_count": 10,
   "id": "17876ba6",
   "metadata": {},
   "outputs": [
    {
     "data": {
      "text/plain": [
       "(2734, 8)"
      ]
     },
     "execution_count": 10,
     "metadata": {},
     "output_type": "execute_result"
    }
   ],
   "source": [
    "data_final.shape"
   ]
  },
  {
   "cell_type": "code",
   "execution_count": 11,
   "id": "9f2a22c9",
   "metadata": {},
   "outputs": [
    {
     "data": {
      "text/html": [
       "<div>\n",
       "<style scoped>\n",
       "    .dataframe tbody tr th:only-of-type {\n",
       "        vertical-align: middle;\n",
       "    }\n",
       "\n",
       "    .dataframe tbody tr th {\n",
       "        vertical-align: top;\n",
       "    }\n",
       "\n",
       "    .dataframe thead th {\n",
       "        text-align: right;\n",
       "    }\n",
       "</style>\n",
       "<table border=\"1\" class=\"dataframe\">\n",
       "  <thead>\n",
       "    <tr style=\"text-align: right;\">\n",
       "      <th></th>\n",
       "      <th>Company Name</th>\n",
       "      <th>Sector</th>\n",
       "      <th>Stage</th>\n",
       "      <th>Amount($)</th>\n",
       "      <th>Location</th>\n",
       "      <th>Funding Year</th>\n",
       "      <th>Founders</th>\n",
       "      <th>Investor</th>\n",
       "    </tr>\n",
       "  </thead>\n",
       "  <tbody>\n",
       "    <tr>\n",
       "      <th>0</th>\n",
       "      <td>TheCollegeFever</td>\n",
       "      <td>Brand Marketing</td>\n",
       "      <td>Seed</td>\n",
       "      <td>250000.0</td>\n",
       "      <td>Bangalore</td>\n",
       "      <td>2018.0</td>\n",
       "      <td>NaN</td>\n",
       "      <td>NaN</td>\n",
       "    </tr>\n",
       "    <tr>\n",
       "      <th>1</th>\n",
       "      <td>PayMe India</td>\n",
       "      <td>Financial Services</td>\n",
       "      <td>Angel</td>\n",
       "      <td>2000000.0</td>\n",
       "      <td>Noida</td>\n",
       "      <td>2018.0</td>\n",
       "      <td>NaN</td>\n",
       "      <td>NaN</td>\n",
       "    </tr>\n",
       "    <tr>\n",
       "      <th>2</th>\n",
       "      <td>Eunimart</td>\n",
       "      <td>E-Commerce Platforms</td>\n",
       "      <td>Seed</td>\n",
       "      <td>NaN</td>\n",
       "      <td>Hyderabad</td>\n",
       "      <td>2018.0</td>\n",
       "      <td>NaN</td>\n",
       "      <td>NaN</td>\n",
       "    </tr>\n",
       "    <tr>\n",
       "      <th>3</th>\n",
       "      <td>Hasura</td>\n",
       "      <td>Cloud Infrastructure</td>\n",
       "      <td>Seed</td>\n",
       "      <td>1600000.0</td>\n",
       "      <td>Bengaluru</td>\n",
       "      <td>2018.0</td>\n",
       "      <td>NaN</td>\n",
       "      <td>NaN</td>\n",
       "    </tr>\n",
       "    <tr>\n",
       "      <th>4</th>\n",
       "      <td>Freightwalla</td>\n",
       "      <td>Information Services</td>\n",
       "      <td>Seed</td>\n",
       "      <td>NaN</td>\n",
       "      <td>Mumbai</td>\n",
       "      <td>2018.0</td>\n",
       "      <td>NaN</td>\n",
       "      <td>NaN</td>\n",
       "    </tr>\n",
       "  </tbody>\n",
       "</table>\n",
       "</div>"
      ],
      "text/plain": [
       "      Company Name                Sector  Stage  Amount($)   Location  \\\n",
       "0  TheCollegeFever       Brand Marketing   Seed   250000.0  Bangalore   \n",
       "1      PayMe India    Financial Services  Angel  2000000.0      Noida   \n",
       "2         Eunimart  E-Commerce Platforms   Seed        NaN  Hyderabad   \n",
       "3           Hasura  Cloud Infrastructure   Seed  1600000.0  Bengaluru   \n",
       "4     Freightwalla  Information Services   Seed        NaN     Mumbai   \n",
       "\n",
       "  Funding Year Founders Investor  \n",
       "0       2018.0      NaN      NaN  \n",
       "1       2018.0      NaN      NaN  \n",
       "2       2018.0      NaN      NaN  \n",
       "3       2018.0      NaN      NaN  \n",
       "4       2018.0      NaN      NaN  "
      ]
     },
     "execution_count": 11,
     "metadata": {},
     "output_type": "execute_result"
    }
   ],
   "source": [
    "data_final.head()"
   ]
  },
  {
   "cell_type": "code",
   "execution_count": 12,
   "id": "bc51f64d",
   "metadata": {},
   "outputs": [
    {
     "name": "stdout",
     "output_type": "stream",
     "text": [
      "<class 'pandas.core.frame.DataFrame'>\n",
      "RangeIndex: 2734 entries, 0 to 2733\n",
      "Data columns (total 8 columns):\n",
      " #   Column        Non-Null Count  Dtype \n",
      "---  ------        --------------  ----- \n",
      " 0   Company Name  2734 non-null   object\n",
      " 1   Sector        2716 non-null   object\n",
      " 2   Stage         1796 non-null   object\n",
      " 3   Amount($)     2580 non-null   object\n",
      " 4   Location      2620 non-null   object\n",
      " 5   Funding Year  2492 non-null   object\n",
      " 6   Founders      2334 non-null   object\n",
      " 7   Investor      2253 non-null   object\n",
      "dtypes: object(8)\n",
      "memory usage: 171.0+ KB\n"
     ]
    }
   ],
   "source": [
    "data_final.info()"
   ]
  },
  {
   "cell_type": "code",
   "execution_count": 13,
   "id": "b33f173e",
   "metadata": {},
   "outputs": [],
   "source": [
    "data_final['Amount($)']=pd.to_numeric(data_final['Amount($)'], errors='coerce')"
   ]
  },
  {
   "cell_type": "code",
   "execution_count": 14,
   "id": "cc1feff9",
   "metadata": {},
   "outputs": [
    {
     "name": "stdout",
     "output_type": "stream",
     "text": [
      "<class 'pandas.core.frame.DataFrame'>\n",
      "RangeIndex: 2734 entries, 0 to 2733\n",
      "Data columns (total 8 columns):\n",
      " #   Column        Non-Null Count  Dtype  \n",
      "---  ------        --------------  -----  \n",
      " 0   Company Name  2734 non-null   object \n",
      " 1   Sector        2716 non-null   object \n",
      " 2   Stage         1796 non-null   object \n",
      " 3   Amount($)     233 non-null    float64\n",
      " 4   Location      2620 non-null   object \n",
      " 5   Funding Year  2492 non-null   object \n",
      " 6   Founders      2334 non-null   object \n",
      " 7   Investor      2253 non-null   object \n",
      "dtypes: float64(1), object(7)\n",
      "memory usage: 171.0+ KB\n"
     ]
    }
   ],
   "source": [
    "data_final.info()"
   ]
  },
  {
   "cell_type": "code",
   "execution_count": 15,
   "id": "f7d6114d",
   "metadata": {},
   "outputs": [
    {
     "data": {
      "text/plain": [
       "array([2.50000e+05, 2.00000e+06,         nan, 1.60000e+06, 1.50000e+05,\n",
       "       1.10000e+06, 6.00000e+06, 6.50000e+05, 1.00000e+06, 5.00000e+06,\n",
       "       4.00000e+06, 2.80000e+06, 1.70000e+06, 1.30000e+06, 5.00000e+05,\n",
       "       1.34000e+07, 9.00000e+06, 1.00000e+05, 2.00000e+04, 1.20000e+05,\n",
       "       1.43145e+05, 7.42000e+08, 3.98000e+06, 1.00000e+04, 1.00000e+09,\n",
       "       7.00000e+06, 3.50000e+07, 2.85000e+07, 2.40000e+06, 3.00000e+07,\n",
       "       2.30000e+07, 1.10000e+07, 3.24000e+06, 5.40000e+08, 9.00000e+05,\n",
       "       1.00000e+07, 1.50000e+06, 1.40000e+07, 1.00000e+08, 8.00000e+05,\n",
       "       1.04100e+06, 1.50000e+04, 1.40000e+06, 1.20000e+06, 2.20000e+06,\n",
       "       1.80000e+06, 3.60000e+06, 3.00000e+05, 6.83000e+06, 2.00000e+05,\n",
       "       4.30000e+06, 3.64846e+05, 4.00000e+05, 1.32000e+07, 5.00000e+04,\n",
       "       3.00000e+06, 1.25000e+06, 1.80000e+05, 4.20000e+06, 1.75000e+05,\n",
       "       1.45000e+06, 4.50000e+06, 6.00000e+05, 1.50000e+07, 1.25000e+05,\n",
       "       1.30000e+05, 1.72000e+07, 3.50000e+06, 1.20000e+07, 4.00000e+07,\n",
       "       5.00000e+07, 4.19000e+07, 3.53000e+06, 3.30000e+06, 2.10000e+08,\n",
       "       3.76800e+07, 2.20000e+07, 7.00000e+04, 1.85000e+08, 6.50000e+07,\n",
       "       7.00000e+05, 7.50000e+07, 1.76000e+06, 2.70000e+06, 7.50000e+05,\n",
       "       2.50000e+06, 8.00000e+07, 2.50000e+07, 3.70000e+06, 5.60000e+06,\n",
       "       9.92300e+07, 7.00000e+07, 4.00000e+04, 5.50000e+05, 3.65000e+08,\n",
       "       2.80000e+07, 1.49000e+07, 2.25000e+08, 7.50000e+03])"
      ]
     },
     "execution_count": 15,
     "metadata": {},
     "output_type": "execute_result"
    }
   ],
   "source": [
    "data_final['Amount($)'].unique()"
   ]
  },
  {
   "cell_type": "code",
   "execution_count": 16,
   "id": "145bead5",
   "metadata": {},
   "outputs": [
    {
     "data": {
      "text/plain": [
       "array([2018.0, nan, 2014.0, 2004.0, 2013.0, 2010.0, 2019.0, 2017.0,\n",
       "       2011.0, 2015.0, 2016.0, 2012.0, 2008.0, '2019', '2018', '2020',\n",
       "       '2016', '2008', '2015', '2017', '2014', '1998', '2007', '2011',\n",
       "       '1982', '2013', '2009', '2012', '1995', '2010', '2006', '1978',\n",
       "       '1999', '1994', '2005', '1973', '-', '2002', '2004', '2001',\n",
       "       2021.0, 2020.0, 1993.0, 1999.0, 1989.0, 2009.0, 2002.0, 1994.0,\n",
       "       2006.0, 2000.0, 2007.0, 1978.0, 2003.0, 1998.0, 1991.0, 1984.0,\n",
       "       2005.0, 1963.0], dtype=object)"
      ]
     },
     "execution_count": 16,
     "metadata": {},
     "output_type": "execute_result"
    }
   ],
   "source": [
    "data_final['Funding Year'].unique()"
   ]
  },
  {
   "cell_type": "code",
   "execution_count": 17,
   "id": "08c81bdd",
   "metadata": {},
   "outputs": [],
   "source": [
    "data_final['Funding Year'] = data_final['Funding Year'].apply(lambda x: str(x).replace('-', ''))"
   ]
  },
  {
   "cell_type": "code",
   "execution_count": 18,
   "id": "d502e2d8",
   "metadata": {},
   "outputs": [],
   "source": [
    "data_final['Funding Year'] = data_final['Funding Year'].apply(lambda x: str(x).replace('nan', ''))"
   ]
  },
  {
   "cell_type": "code",
   "execution_count": 22,
   "id": "e6a40f32",
   "metadata": {},
   "outputs": [],
   "source": [
    "# data_final['Funding Year'] = data_final['Funding Year'].apply(lambda x: str(x).replace('', '2015'))"
   ]
  },
  {
   "cell_type": "code",
   "execution_count": 23,
   "id": "362335f8",
   "metadata": {},
   "outputs": [],
   "source": [
    "# data_final['Funding Year'].unique()"
   ]
  },
  {
   "cell_type": "code",
   "execution_count": 21,
   "id": "a9cea07c",
   "metadata": {},
   "outputs": [],
   "source": [
    "data_final['Funding Year']=pd.to_numeric(data_final['Funding Year'], errors='coerce')\n",
    "#data_final['Funding Year']=data_final['Funding Year'].astype(int)"
   ]
  },
  {
   "cell_type": "code",
   "execution_count": 22,
   "id": "cb2e6d00",
   "metadata": {},
   "outputs": [
    {
     "name": "stdout",
     "output_type": "stream",
     "text": [
      "<class 'pandas.core.frame.DataFrame'>\n",
      "RangeIndex: 2734 entries, 0 to 2733\n",
      "Data columns (total 8 columns):\n",
      " #   Column        Non-Null Count  Dtype  \n",
      "---  ------        --------------  -----  \n",
      " 0   Company Name  2734 non-null   object \n",
      " 1   Sector        2716 non-null   object \n",
      " 2   Stage         1796 non-null   object \n",
      " 3   Amount($)     233 non-null    float64\n",
      " 4   Location      2620 non-null   object \n",
      " 5   Funding Year  2491 non-null   float64\n",
      " 6   Founders      2334 non-null   object \n",
      " 7   Investor      2253 non-null   object \n",
      "dtypes: float64(2), object(6)\n",
      "memory usage: 171.0+ KB\n"
     ]
    }
   ],
   "source": [
    "data_final.info()"
   ]
  },
  {
   "cell_type": "markdown",
   "id": "80da9766",
   "metadata": {},
   "source": [
    "# Using the Simple Imputer method to replace missing values in the funding year column"
   ]
  },
  {
   "cell_type": "code",
   "execution_count": 23,
   "id": "a47418a8",
   "metadata": {},
   "outputs": [
    {
     "data": {
      "text/plain": [
       "0"
      ]
     },
     "execution_count": 23,
     "metadata": {},
     "output_type": "execute_result"
    }
   ],
   "source": [
    "imp=SimpleImputer(strategy='mean')\n",
    "data_final['Funding Year']=imp.fit_transform(data_final['Funding Year'].values.reshape(-1,1))\n",
    "data_final['Funding Year'].isna().sum()"
   ]
  },
  {
   "cell_type": "code",
   "execution_count": null,
   "id": "b7be31b5",
   "metadata": {},
   "outputs": [],
   "source": [
    "# data_final['Funding Year'] = data_final['Funding Year'].apply(lambda x: str(x).replace('', '2016'))"
   ]
  },
  {
   "cell_type": "code",
   "execution_count": null,
   "id": "4e1a7d40",
   "metadata": {},
   "outputs": [],
   "source": [
    "# data_final.info()"
   ]
  },
  {
   "cell_type": "code",
   "execution_count": 24,
   "id": "cad214a2",
   "metadata": {},
   "outputs": [
    {
     "data": {
      "text/html": [
       "<div>\n",
       "<style scoped>\n",
       "    .dataframe tbody tr th:only-of-type {\n",
       "        vertical-align: middle;\n",
       "    }\n",
       "\n",
       "    .dataframe tbody tr th {\n",
       "        vertical-align: top;\n",
       "    }\n",
       "\n",
       "    .dataframe thead th {\n",
       "        text-align: right;\n",
       "    }\n",
       "</style>\n",
       "<table border=\"1\" class=\"dataframe\">\n",
       "  <thead>\n",
       "    <tr style=\"text-align: right;\">\n",
       "      <th></th>\n",
       "      <th>count</th>\n",
       "      <th>mean</th>\n",
       "      <th>std</th>\n",
       "      <th>min</th>\n",
       "      <th>25%</th>\n",
       "      <th>50%</th>\n",
       "      <th>75%</th>\n",
       "      <th>max</th>\n",
       "    </tr>\n",
       "  </thead>\n",
       "  <tbody>\n",
       "    <tr>\n",
       "      <th>Amount($)</th>\n",
       "      <td>233.0</td>\n",
       "      <td>2.317790e+07</td>\n",
       "      <td>9.563237e+07</td>\n",
       "      <td>7500.0</td>\n",
       "      <td>550000.0</td>\n",
       "      <td>1600000.0</td>\n",
       "      <td>5000000.0</td>\n",
       "      <td>1.000000e+09</td>\n",
       "    </tr>\n",
       "    <tr>\n",
       "      <th>Funding Year</th>\n",
       "      <td>2734.0</td>\n",
       "      <td>2.016373e+03</td>\n",
       "      <td>3.893420e+00</td>\n",
       "      <td>1963.0</td>\n",
       "      <td>2015.0</td>\n",
       "      <td>2017.0</td>\n",
       "      <td>2018.0</td>\n",
       "      <td>2.021000e+03</td>\n",
       "    </tr>\n",
       "  </tbody>\n",
       "</table>\n",
       "</div>"
      ],
      "text/plain": [
       "               count          mean           std     min       25%        50%  \\\n",
       "Amount($)      233.0  2.317790e+07  9.563237e+07  7500.0  550000.0  1600000.0   \n",
       "Funding Year  2734.0  2.016373e+03  3.893420e+00  1963.0    2015.0     2017.0   \n",
       "\n",
       "                    75%           max  \n",
       "Amount($)     5000000.0  1.000000e+09  \n",
       "Funding Year     2018.0  2.021000e+03  "
      ]
     },
     "execution_count": 24,
     "metadata": {},
     "output_type": "execute_result"
    }
   ],
   "source": [
    "data_final.describe().T"
   ]
  },
  {
   "cell_type": "code",
   "execution_count": 29,
   "id": "b5ec2f63",
   "metadata": {},
   "outputs": [
    {
     "data": {
      "text/plain": [
       "array([2018.        , 2016.37334404, 2014.        , 2004.        ,\n",
       "       2013.        , 2010.        , 2019.        , 2017.        ,\n",
       "       2011.        , 2015.        , 2016.        , 2012.        ,\n",
       "       2008.        , 2020.        , 1998.        , 2007.        ,\n",
       "       1982.        , 2009.        , 1995.        , 2006.        ,\n",
       "       1978.        , 1999.        , 1994.        , 2005.        ,\n",
       "       1973.        , 2002.        , 2001.        , 2021.        ,\n",
       "       1993.        , 1989.        , 2000.        , 2003.        ,\n",
       "       1991.        , 1984.        , 1963.        ])"
      ]
     },
     "execution_count": 29,
     "metadata": {},
     "output_type": "execute_result"
    }
   ],
   "source": [
    "data_final['Funding Year'].unique()"
   ]
  },
  {
   "cell_type": "code",
   "execution_count": 25,
   "id": "ec186877",
   "metadata": {},
   "outputs": [],
   "source": [
    "missing_percentage=data_final.isna().mean()*100"
   ]
  },
  {
   "cell_type": "code",
   "execution_count": 26,
   "id": "ec830afd",
   "metadata": {},
   "outputs": [
    {
     "data": {
      "text/plain": [
       "Company Name     0.000000\n",
       "Sector           0.658376\n",
       "Stage           34.308705\n",
       "Amount($)       91.477688\n",
       "Location         4.169715\n",
       "Funding Year     0.000000\n",
       "Founders        14.630578\n",
       "Investor        17.593270\n",
       "dtype: float64"
      ]
     },
     "execution_count": 26,
     "metadata": {},
     "output_type": "execute_result"
    }
   ],
   "source": [
    "missing_percentage"
   ]
  },
  {
   "cell_type": "markdown",
   "id": "9d6091d3",
   "metadata": {},
   "source": [
    "# Using the Simple Imputer method to replace missing values in the amount column"
   ]
  },
  {
   "cell_type": "code",
   "execution_count": 27,
   "id": "fdc9c156",
   "metadata": {},
   "outputs": [
    {
     "data": {
      "text/plain": [
       "0"
      ]
     },
     "execution_count": 27,
     "metadata": {},
     "output_type": "execute_result"
    }
   ],
   "source": [
    "imp=SimpleImputer(strategy='median')\n",
    "data_final['Amount($)']=imp.fit_transform(data_final['Amount($)'].values.reshape(-1,1))\n",
    "data_final['Amount($)'].isna().sum()"
   ]
  },
  {
   "cell_type": "code",
   "execution_count": 28,
   "id": "f4e8ad89",
   "metadata": {},
   "outputs": [],
   "source": [
    "missing_percentage=data_final.isna().mean()*100"
   ]
  },
  {
   "cell_type": "code",
   "execution_count": 29,
   "id": "ee859931",
   "metadata": {},
   "outputs": [
    {
     "data": {
      "text/plain": [
       "Company Name     0.000000\n",
       "Sector           0.658376\n",
       "Stage           34.308705\n",
       "Amount($)        0.000000\n",
       "Location         4.169715\n",
       "Funding Year     0.000000\n",
       "Founders        14.630578\n",
       "Investor        17.593270\n",
       "dtype: float64"
      ]
     },
     "execution_count": 29,
     "metadata": {},
     "output_type": "execute_result"
    }
   ],
   "source": [
    "missing_percentage"
   ]
  },
  {
   "cell_type": "code",
   "execution_count": 30,
   "id": "02efea7b",
   "metadata": {},
   "outputs": [
    {
     "data": {
      "text/plain": [
       "array(['Seed', 'Angel', 'Series A', 'Pre-Seed', 'Private Equity',\n",
       "       'Series B', 'Grant', 'Series H', 'Series C',\n",
       "       'Venture - Series Unknown', 'Debt Financing', 'Post-IPO Debt',\n",
       "       'Series E', 'Corporate Round',\n",
       "       'https://docs.google.com/spreadsheets/d/1x9ziNeaz6auNChIHnMI8U6kS7knTr3byy_YBGfQaoUA/edit#gid=1861303593',\n",
       "       'Series D', 'Secondary Market', 'Post-IPO Equity',\n",
       "       'Non-equity Assistance', 'Funding Round', nan, 'Fresh funding',\n",
       "       'Pre series A', 'Series G', 'Post series A', 'Seed funding',\n",
       "       'Seed fund', 'Series F', 'Series B+', 'Seed round', 'Pre-series A',\n",
       "       'Pre-seed', 'Pre-series', 'Debt', 'Pre-series C', 'Pre-series B',\n",
       "       'Bridge', 'Series B2', 'Pre- series A', 'Edge', 'Pre-Series B',\n",
       "       'Seed A', 'Series A-1', 'Seed Funding', 'Pre-seed Round',\n",
       "       'Seed Round & Series A', 'Pre Series A', 'Pre seed Round',\n",
       "       'Angel Round', 'Pre series A1', 'Series E2', 'Seed Round',\n",
       "       'Bridge Round', 'Pre seed round', 'Pre series B', 'Pre series C',\n",
       "       'Seed Investment', 'Series D1', 'Mid series', 'Series C, D',\n",
       "       '$1200000', 'Seed+', 'Series F2', 'Series A+', 'Series B3', 'PE',\n",
       "       'Series F1', 'Pre-series A1', '$300000', 'Early seed', '$6000000',\n",
       "       '$1000000', 'Seies A', 'Series A2', 'Series I'], dtype=object)"
      ]
     },
     "execution_count": 30,
     "metadata": {},
     "output_type": "execute_result"
    }
   ],
   "source": [
    "data_final['Stage'].unique()"
   ]
  },
  {
   "cell_type": "markdown",
   "id": "ad3d44af",
   "metadata": {},
   "source": [
    "# We remove the website url from the stage since it is not a stage name"
   ]
  },
  {
   "cell_type": "code",
   "execution_count": 31,
   "id": "26dd73a9",
   "metadata": {},
   "outputs": [],
   "source": [
    "data_final['Stage'] = data_final['Stage'].apply(lambda x: str(x).replace('https://docs.google.com/spreadsheets/d/1x9ziNeaz6auNChIHnMI8U6kS7knTr3byy_YBGfQaoUA/edit#gid=1861303593', 'Seed Funding'))"
   ]
  },
  {
   "cell_type": "code",
   "execution_count": 32,
   "id": "fca37b48",
   "metadata": {},
   "outputs": [
    {
     "data": {
      "text/plain": [
       "array(['Seed', 'Angel', 'Series A', 'Pre-Seed', 'Private Equity',\n",
       "       'Series B', 'Grant', 'Series H', 'Series C',\n",
       "       'Venture - Series Unknown', 'Debt Financing', 'Post-IPO Debt',\n",
       "       'Series E', 'Corporate Round', 'Seed Funding', 'Series D',\n",
       "       'Secondary Market', 'Post-IPO Equity', 'Non-equity Assistance',\n",
       "       'Funding Round', 'nan', 'Fresh funding', 'Pre series A',\n",
       "       'Series G', 'Post series A', 'Seed funding', 'Seed fund',\n",
       "       'Series F', 'Series B+', 'Seed round', 'Pre-series A', 'Pre-seed',\n",
       "       'Pre-series', 'Debt', 'Pre-series C', 'Pre-series B', 'Bridge',\n",
       "       'Series B2', 'Pre- series A', 'Edge', 'Pre-Series B', 'Seed A',\n",
       "       'Series A-1', 'Pre-seed Round', 'Seed Round & Series A',\n",
       "       'Pre Series A', 'Pre seed Round', 'Angel Round', 'Pre series A1',\n",
       "       'Series E2', 'Seed Round', 'Bridge Round', 'Pre seed round',\n",
       "       'Pre series B', 'Pre series C', 'Seed Investment', 'Series D1',\n",
       "       'Mid series', 'Series C, D', '$1200000', 'Seed+', 'Series F2',\n",
       "       'Series A+', 'Series B3', 'PE', 'Series F1', 'Pre-series A1',\n",
       "       '$300000', 'Early seed', '$6000000', '$1000000', 'Seies A',\n",
       "       'Series A2', 'Series I'], dtype=object)"
      ]
     },
     "execution_count": 32,
     "metadata": {},
     "output_type": "execute_result"
    }
   ],
   "source": [
    "data_final['Stage'].unique()"
   ]
  },
  {
   "cell_type": "markdown",
   "id": "dd71af76",
   "metadata": {},
   "source": [
    "# Removing and replacing the mismatch values for instance moneys appears in stage"
   ]
  },
  {
   "cell_type": "code",
   "execution_count": 33,
   "id": "30f93bcd",
   "metadata": {},
   "outputs": [],
   "source": [
    "data_final['Stage'] = data_final['Stage'].apply(lambda x: str(x).replace('$6000000', 'Seed Funding'))\n",
    "data_final['Stage'] = data_final['Stage'].apply(lambda x: str(x).replace('$1000000', 'Seed Funding'))\n",
    "data_final['Stage'] = data_final['Stage'].apply(lambda x: str(x).replace('$300000', 'Pre seed Round'))\n",
    "data_final['Stage'] = data_final['Stage'].apply(lambda x: str(x).replace('$1200000', 'Series B3'))\n",
    "data_final['Stage'] = data_final['Stage'].apply(lambda x: str(x).replace('nan', 'Bridge Round'))"
   ]
  },
  {
   "cell_type": "code",
   "execution_count": 34,
   "id": "d04e7083",
   "metadata": {},
   "outputs": [],
   "source": [
    "missing_percentage=data_final.isna().mean()*100"
   ]
  },
  {
   "cell_type": "code",
   "execution_count": 35,
   "id": "3ffbb050",
   "metadata": {},
   "outputs": [
    {
     "data": {
      "text/plain": [
       "Company Name     0.000000\n",
       "Sector           0.658376\n",
       "Stage            0.000000\n",
       "Amount($)        0.000000\n",
       "Location         4.169715\n",
       "Funding Year     0.000000\n",
       "Founders        14.630578\n",
       "Investor        17.593270\n",
       "dtype: float64"
      ]
     },
     "execution_count": 35,
     "metadata": {},
     "output_type": "execute_result"
    }
   ],
   "source": [
    "missing_percentage"
   ]
  },
  {
   "cell_type": "code",
   "execution_count": 36,
   "id": "033a75aa",
   "metadata": {},
   "outputs": [
    {
     "data": {
      "text/plain": [
       "array([nan, 'Sixth Sense Ventures', 'General Atlantic', ...,\n",
       "       'Owl Ventures', 'Winter Capital, ETS, Man Capital',\n",
       "       '3one4 Capital, Kalaari Capital'], dtype=object)"
      ]
     },
     "execution_count": 36,
     "metadata": {},
     "output_type": "execute_result"
    }
   ],
   "source": [
    "data_final['Investor'].unique()"
   ]
  },
  {
   "cell_type": "code",
   "execution_count": 37,
   "id": "a0b9b75c",
   "metadata": {},
   "outputs": [],
   "source": [
    "data_final['Investor'] = data_final['Investor'].apply(lambda x: str(x).replace('nan', 'Undisclosed'))"
   ]
  },
  {
   "cell_type": "code",
   "execution_count": 38,
   "id": "cf47e6b2",
   "metadata": {},
   "outputs": [
    {
     "data": {
      "text/plain": [
       "Company Name     0.000000\n",
       "Sector           0.658376\n",
       "Stage            0.000000\n",
       "Amount($)        0.000000\n",
       "Location         4.169715\n",
       "Funding Year     0.000000\n",
       "Founders        14.630578\n",
       "Investor         0.000000\n",
       "dtype: float64"
      ]
     },
     "execution_count": 38,
     "metadata": {},
     "output_type": "execute_result"
    }
   ],
   "source": [
    "missing_percentage=data_final.isna().mean()*100\n",
    "missing_percentage"
   ]
  },
  {
   "cell_type": "code",
   "execution_count": 39,
   "id": "9ccedcaf",
   "metadata": {},
   "outputs": [
    {
     "data": {
      "text/plain": [
       "array([nan, 'Shantanu Deshpande', 'Adamas Belva Syah Devara, Iman Usman.',\n",
       "       ..., 'Bala Sarda', 'Arnav Kumar, Vaibhav Singh',\n",
       "       'Vishal Chopra, Himanshu Gupta'], dtype=object)"
      ]
     },
     "execution_count": 39,
     "metadata": {},
     "output_type": "execute_result"
    }
   ],
   "source": [
    "data_final['Founders'].unique()"
   ]
  },
  {
   "cell_type": "code",
   "execution_count": 40,
   "id": "6f63405b",
   "metadata": {},
   "outputs": [],
   "source": [
    "data_final['Founders'] = data_final['Founders'].apply(lambda x: str(x).replace('nan', 'Arnav Kumar'))"
   ]
  },
  {
   "cell_type": "code",
   "execution_count": 41,
   "id": "60240dfb",
   "metadata": {},
   "outputs": [
    {
     "data": {
      "text/plain": [
       "Company Name    0.000000\n",
       "Sector          0.658376\n",
       "Stage           0.000000\n",
       "Amount($)       0.000000\n",
       "Location        4.169715\n",
       "Funding Year    0.000000\n",
       "Founders        0.000000\n",
       "Investor        0.000000\n",
       "dtype: float64"
      ]
     },
     "execution_count": 41,
     "metadata": {},
     "output_type": "execute_result"
    }
   ],
   "source": [
    "missing_percentage=data_final.isna().mean()*100\n",
    "missing_percentage"
   ]
  },
  {
   "cell_type": "code",
   "execution_count": 42,
   "id": "92012a40",
   "metadata": {},
   "outputs": [
    {
     "data": {
      "text/plain": [
       "array(['Bangalore', 'Noida', 'Hyderabad', 'Bengaluru', 'Mumbai', 'Delhi',\n",
       "       'India', 'Hubli', 'New Delhi', 'Mohali', 'Chennai', 'Kolkata',\n",
       "       'Pune', 'Gurgaon', 'Azadpur', 'Haryana', 'Cochin', 'Anand',\n",
       "       'Jaipur', 'Thane', 'Indore', 'Alwar', 'Ahmedabad', 'Trivandrum',\n",
       "       'Ernakulam', 'Kormangala', 'Bangalore City', 'Andheri', 'Mylapore',\n",
       "       'Ghaziabad', 'Kochi', 'Powai', 'Guntur', 'Kalpakkam', 'Bhopal',\n",
       "       'Coimbatore', 'Worli', 'Alleppey', 'Chandigarh', 'Guindy',\n",
       "       'Lucknow', nan, 'Telangana', 'Gurugram', 'Surat', 'Uttar pradesh',\n",
       "       'Rajasthan', 'Belgaum', 'Tirunelveli, Tamilnadu', 'Singapore',\n",
       "       'Gujarat', 'Kerala', 'Jodhpur', 'Jaipur, Rajastan',\n",
       "       'Frisco, Texas, United States', 'California', 'Dhingsara, Haryana',\n",
       "       'New York, United States', 'Patna',\n",
       "       'San Francisco, California, United States',\n",
       "       'San Francisco, United States', 'San Ramon, California',\n",
       "       'Paris, Ile-de-France, France', 'Plano, Texas, United States',\n",
       "       'Sydney', 'San Francisco Bay Area, Silicon Valley, West Coast',\n",
       "       'Bangaldesh', 'London, England, United Kingdom',\n",
       "       'Sydney, New South Wales, Australia', 'Milano, Lombardia, Italy',\n",
       "       'Palmwoods, Queensland, Australia', 'France',\n",
       "       'San Francisco Bay Area, West Coast, Western US',\n",
       "       'Trivandrum, Kerala, India', 'Samastipur, Bihar',\n",
       "       'Irvine, California, United States', 'Tumkur, Karnataka',\n",
       "       'Newcastle Upon Tyne, Newcastle upon Tyne, United Kingdom',\n",
       "       'Shanghai, China', 'Jiaxing, Zhejiang, China', 'Rajastan',\n",
       "       'Ludhiana', 'Dehradun', 'San Franciscao', 'San Francisco',\n",
       "       'Tangerang, Jawa Barat, Indonesia', 'Berlin', 'Seattle', 'Riyadh',\n",
       "       'Seoul', 'New York', 'Bangkok', 'Kanpur', 'Warangal', 'Hyderebad',\n",
       "       'Odisha', 'Bihar', 'Goa', 'Tamil Nadu', 'Uttar Pradesh',\n",
       "       'Banglore', 'Ahmadabad', 'Small Towns, Andhra Pradesh',\n",
       "       'Rajsamand', 'Ranchi', 'Faridabad, Haryana', 'Computer Games',\n",
       "       'Vadodara', 'Food & Beverages', 'Pharmaceuticals\\t#REF!',\n",
       "       'Gurugram\\t#REF!', 'Nagpur', 'West Bengal', 'Samsitpur',\n",
       "       'Silvassa', 'Thiruvananthapuram', 'Faridabad', 'Roorkee',\n",
       "       'Ambernath', 'Panchkula', 'Mangalore', 'Telugana', 'Bhubaneswar',\n",
       "       'Kottayam', 'Beijing', 'Panaji', 'Satara', 'Orissia', 'Santra',\n",
       "       'Mountain View, CA', 'Jharkhand', 'Bhilwara', 'Guwahati',\n",
       "       'Online Media\\t#REF!', 'London',\n",
       "       'Information Technology & Services', 'The Nilgiris', 'Gandhinagar'],\n",
       "      dtype=object)"
      ]
     },
     "execution_count": 42,
     "metadata": {},
     "output_type": "execute_result"
    }
   ],
   "source": [
    "data_final['Location'].unique()"
   ]
  },
  {
   "cell_type": "code",
   "execution_count": 43,
   "id": "26224238",
   "metadata": {},
   "outputs": [],
   "source": [
    "#data_final['Location'] = data_final['Location'].apply(lambda x: str(x).replace('nan', 'San Francisco, California'))"
   ]
  },
  {
   "cell_type": "code",
   "execution_count": 44,
   "id": "992b3a86",
   "metadata": {},
   "outputs": [
    {
     "data": {
      "text/plain": [
       "Company Name    0.000000\n",
       "Sector          0.658376\n",
       "Stage           0.000000\n",
       "Amount($)       0.000000\n",
       "Location        4.169715\n",
       "Funding Year    0.000000\n",
       "Founders        0.000000\n",
       "Investor        0.000000\n",
       "dtype: float64"
      ]
     },
     "execution_count": 44,
     "metadata": {},
     "output_type": "execute_result"
    }
   ],
   "source": [
    "missing_percentage=data_final.isna().mean()*100\n",
    "missing_percentage"
   ]
  },
  {
   "cell_type": "code",
   "execution_count": 45,
   "id": "83ab64ec",
   "metadata": {},
   "outputs": [
    {
     "data": {
      "text/html": [
       "<div>\n",
       "<style scoped>\n",
       "    .dataframe tbody tr th:only-of-type {\n",
       "        vertical-align: middle;\n",
       "    }\n",
       "\n",
       "    .dataframe tbody tr th {\n",
       "        vertical-align: top;\n",
       "    }\n",
       "\n",
       "    .dataframe thead th {\n",
       "        text-align: right;\n",
       "    }\n",
       "</style>\n",
       "<table border=\"1\" class=\"dataframe\">\n",
       "  <thead>\n",
       "    <tr style=\"text-align: right;\">\n",
       "      <th></th>\n",
       "      <th>Company Name</th>\n",
       "      <th>Sector</th>\n",
       "      <th>Stage</th>\n",
       "      <th>Amount($)</th>\n",
       "      <th>Location</th>\n",
       "      <th>Funding Year</th>\n",
       "      <th>Founders</th>\n",
       "      <th>Investor</th>\n",
       "    </tr>\n",
       "  </thead>\n",
       "  <tbody>\n",
       "    <tr>\n",
       "      <th>0</th>\n",
       "      <td>TheCollegeFever</td>\n",
       "      <td>Brand Marketing</td>\n",
       "      <td>Seed</td>\n",
       "      <td>250000.0</td>\n",
       "      <td>Bangalore</td>\n",
       "      <td>2018.0</td>\n",
       "      <td>Arnav Kumar</td>\n",
       "      <td>Undisclosed</td>\n",
       "    </tr>\n",
       "    <tr>\n",
       "      <th>1</th>\n",
       "      <td>PayMe India</td>\n",
       "      <td>Financial Services</td>\n",
       "      <td>Angel</td>\n",
       "      <td>2000000.0</td>\n",
       "      <td>Noida</td>\n",
       "      <td>2018.0</td>\n",
       "      <td>Arnav Kumar</td>\n",
       "      <td>Undisclosed</td>\n",
       "    </tr>\n",
       "    <tr>\n",
       "      <th>2</th>\n",
       "      <td>Eunimart</td>\n",
       "      <td>E-Commerce Platforms</td>\n",
       "      <td>Seed</td>\n",
       "      <td>1600000.0</td>\n",
       "      <td>Hyderabad</td>\n",
       "      <td>2018.0</td>\n",
       "      <td>Arnav Kumar</td>\n",
       "      <td>Undisclosed</td>\n",
       "    </tr>\n",
       "    <tr>\n",
       "      <th>3</th>\n",
       "      <td>Hasura</td>\n",
       "      <td>Cloud Infrastructure</td>\n",
       "      <td>Seed</td>\n",
       "      <td>1600000.0</td>\n",
       "      <td>Bengaluru</td>\n",
       "      <td>2018.0</td>\n",
       "      <td>Arnav Kumar</td>\n",
       "      <td>Undisclosed</td>\n",
       "    </tr>\n",
       "    <tr>\n",
       "      <th>4</th>\n",
       "      <td>Freightwalla</td>\n",
       "      <td>Information Services</td>\n",
       "      <td>Seed</td>\n",
       "      <td>1600000.0</td>\n",
       "      <td>Mumbai</td>\n",
       "      <td>2018.0</td>\n",
       "      <td>Arnav Kumar</td>\n",
       "      <td>Undisclosed</td>\n",
       "    </tr>\n",
       "  </tbody>\n",
       "</table>\n",
       "</div>"
      ],
      "text/plain": [
       "      Company Name                Sector  Stage  Amount($)   Location  \\\n",
       "0  TheCollegeFever       Brand Marketing   Seed   250000.0  Bangalore   \n",
       "1      PayMe India    Financial Services  Angel  2000000.0      Noida   \n",
       "2         Eunimart  E-Commerce Platforms   Seed  1600000.0  Hyderabad   \n",
       "3           Hasura  Cloud Infrastructure   Seed  1600000.0  Bengaluru   \n",
       "4     Freightwalla  Information Services   Seed  1600000.0     Mumbai   \n",
       "\n",
       "   Funding Year     Founders     Investor  \n",
       "0        2018.0  Arnav Kumar  Undisclosed  \n",
       "1        2018.0  Arnav Kumar  Undisclosed  \n",
       "2        2018.0  Arnav Kumar  Undisclosed  \n",
       "3        2018.0  Arnav Kumar  Undisclosed  \n",
       "4        2018.0  Arnav Kumar  Undisclosed  "
      ]
     },
     "execution_count": 45,
     "metadata": {},
     "output_type": "execute_result"
    }
   ],
   "source": [
    "data_final.head()"
   ]
  },
  {
   "cell_type": "code",
   "execution_count": 51,
   "id": "0b2f7cc9",
   "metadata": {},
   "outputs": [
    {
     "data": {
      "text/plain": [
       "(2734, 8)"
      ]
     },
     "execution_count": 51,
     "metadata": {},
     "output_type": "execute_result"
    }
   ],
   "source": [
    "data_final.shape"
   ]
  },
  {
   "cell_type": "markdown",
   "id": "6d39f2a5",
   "metadata": {},
   "source": [
    "# WEEK 3 - DATA PREPARATION "
   ]
  },
  {
   "cell_type": "markdown",
   "id": "1463b456",
   "metadata": {},
   "source": [
    "## At the data preparation stage, we inspect the datasets in full, present it, test our hypotheses and rethink the cleaning, and creating new  features that will help us answer our question asked in the begining. "
   ]
  },
  {
   "cell_type": "code",
   "execution_count": 46,
   "id": "b7aaadd2",
   "metadata": {
    "scrolled": false
   },
   "outputs": [
    {
     "data": {
      "text/html": [
       "<div>\n",
       "<style scoped>\n",
       "    .dataframe tbody tr th:only-of-type {\n",
       "        vertical-align: middle;\n",
       "    }\n",
       "\n",
       "    .dataframe tbody tr th {\n",
       "        vertical-align: top;\n",
       "    }\n",
       "\n",
       "    .dataframe thead th {\n",
       "        text-align: right;\n",
       "    }\n",
       "</style>\n",
       "<table border=\"1\" class=\"dataframe\">\n",
       "  <thead>\n",
       "    <tr style=\"text-align: right;\">\n",
       "      <th></th>\n",
       "      <th>Company Name</th>\n",
       "      <th>Sector</th>\n",
       "      <th>Stage</th>\n",
       "      <th>Amount($)</th>\n",
       "      <th>Location</th>\n",
       "      <th>Funding Year</th>\n",
       "      <th>Founders</th>\n",
       "      <th>Investor</th>\n",
       "    </tr>\n",
       "  </thead>\n",
       "  <tbody>\n",
       "    <tr>\n",
       "      <th>0</th>\n",
       "      <td>TheCollegeFever</td>\n",
       "      <td>Brand Marketing</td>\n",
       "      <td>Seed</td>\n",
       "      <td>250000.0</td>\n",
       "      <td>Bangalore</td>\n",
       "      <td>2018.0</td>\n",
       "      <td>Arnav Kumar</td>\n",
       "      <td>Undisclosed</td>\n",
       "    </tr>\n",
       "    <tr>\n",
       "      <th>1</th>\n",
       "      <td>PayMe India</td>\n",
       "      <td>Financial Services</td>\n",
       "      <td>Angel</td>\n",
       "      <td>2000000.0</td>\n",
       "      <td>Noida</td>\n",
       "      <td>2018.0</td>\n",
       "      <td>Arnav Kumar</td>\n",
       "      <td>Undisclosed</td>\n",
       "    </tr>\n",
       "    <tr>\n",
       "      <th>2</th>\n",
       "      <td>Eunimart</td>\n",
       "      <td>E-Commerce Platforms</td>\n",
       "      <td>Seed</td>\n",
       "      <td>1600000.0</td>\n",
       "      <td>Hyderabad</td>\n",
       "      <td>2018.0</td>\n",
       "      <td>Arnav Kumar</td>\n",
       "      <td>Undisclosed</td>\n",
       "    </tr>\n",
       "    <tr>\n",
       "      <th>3</th>\n",
       "      <td>Hasura</td>\n",
       "      <td>Cloud Infrastructure</td>\n",
       "      <td>Seed</td>\n",
       "      <td>1600000.0</td>\n",
       "      <td>Bengaluru</td>\n",
       "      <td>2018.0</td>\n",
       "      <td>Arnav Kumar</td>\n",
       "      <td>Undisclosed</td>\n",
       "    </tr>\n",
       "    <tr>\n",
       "      <th>4</th>\n",
       "      <td>Freightwalla</td>\n",
       "      <td>Information Services</td>\n",
       "      <td>Seed</td>\n",
       "      <td>1600000.0</td>\n",
       "      <td>Mumbai</td>\n",
       "      <td>2018.0</td>\n",
       "      <td>Arnav Kumar</td>\n",
       "      <td>Undisclosed</td>\n",
       "    </tr>\n",
       "    <tr>\n",
       "      <th>5</th>\n",
       "      <td>Microchip Payments</td>\n",
       "      <td>Mobile Payments</td>\n",
       "      <td>Seed</td>\n",
       "      <td>1600000.0</td>\n",
       "      <td>Bangalore</td>\n",
       "      <td>2018.0</td>\n",
       "      <td>Arnav Kumar</td>\n",
       "      <td>Undisclosed</td>\n",
       "    </tr>\n",
       "    <tr>\n",
       "      <th>6</th>\n",
       "      <td>BizCrum Infotech Pvt. Ltd.</td>\n",
       "      <td>B2B</td>\n",
       "      <td>Seed</td>\n",
       "      <td>1600000.0</td>\n",
       "      <td>Delhi</td>\n",
       "      <td>2018.0</td>\n",
       "      <td>Arnav Kumar</td>\n",
       "      <td>Undisclosed</td>\n",
       "    </tr>\n",
       "    <tr>\n",
       "      <th>7</th>\n",
       "      <td>Emojifi</td>\n",
       "      <td>Internet</td>\n",
       "      <td>Seed</td>\n",
       "      <td>1600000.0</td>\n",
       "      <td>Bengaluru</td>\n",
       "      <td>2018.0</td>\n",
       "      <td>Arnav Kumar</td>\n",
       "      <td>Undisclosed</td>\n",
       "    </tr>\n",
       "    <tr>\n",
       "      <th>8</th>\n",
       "      <td>Flock</td>\n",
       "      <td>Apps</td>\n",
       "      <td>Seed</td>\n",
       "      <td>1600000.0</td>\n",
       "      <td>India</td>\n",
       "      <td>2018.0</td>\n",
       "      <td>Arnav Kumar</td>\n",
       "      <td>Undisclosed</td>\n",
       "    </tr>\n",
       "    <tr>\n",
       "      <th>9</th>\n",
       "      <td>Freshboxx</td>\n",
       "      <td>Food Delivery</td>\n",
       "      <td>Seed</td>\n",
       "      <td>1600000.0</td>\n",
       "      <td>Hubli</td>\n",
       "      <td>2018.0</td>\n",
       "      <td>Arnav Kumar</td>\n",
       "      <td>Undisclosed</td>\n",
       "    </tr>\n",
       "  </tbody>\n",
       "</table>\n",
       "</div>"
      ],
      "text/plain": [
       "                 Company Name                Sector  Stage  Amount($)  \\\n",
       "0             TheCollegeFever       Brand Marketing   Seed   250000.0   \n",
       "1                 PayMe India    Financial Services  Angel  2000000.0   \n",
       "2                    Eunimart  E-Commerce Platforms   Seed  1600000.0   \n",
       "3                      Hasura  Cloud Infrastructure   Seed  1600000.0   \n",
       "4                Freightwalla  Information Services   Seed  1600000.0   \n",
       "5          Microchip Payments       Mobile Payments   Seed  1600000.0   \n",
       "6  BizCrum Infotech Pvt. Ltd.                   B2B   Seed  1600000.0   \n",
       "7                     Emojifi              Internet   Seed  1600000.0   \n",
       "8                       Flock                  Apps   Seed  1600000.0   \n",
       "9                   Freshboxx         Food Delivery   Seed  1600000.0   \n",
       "\n",
       "    Location  Funding Year     Founders     Investor  \n",
       "0  Bangalore        2018.0  Arnav Kumar  Undisclosed  \n",
       "1      Noida        2018.0  Arnav Kumar  Undisclosed  \n",
       "2  Hyderabad        2018.0  Arnav Kumar  Undisclosed  \n",
       "3  Bengaluru        2018.0  Arnav Kumar  Undisclosed  \n",
       "4     Mumbai        2018.0  Arnav Kumar  Undisclosed  \n",
       "5  Bangalore        2018.0  Arnav Kumar  Undisclosed  \n",
       "6      Delhi        2018.0  Arnav Kumar  Undisclosed  \n",
       "7  Bengaluru        2018.0  Arnav Kumar  Undisclosed  \n",
       "8      India        2018.0  Arnav Kumar  Undisclosed  \n",
       "9      Hubli        2018.0  Arnav Kumar  Undisclosed  "
      ]
     },
     "execution_count": 46,
     "metadata": {},
     "output_type": "execute_result"
    }
   ],
   "source": [
    "data_final.head(10)"
   ]
  },
  {
   "cell_type": "markdown",
   "id": "416f6709",
   "metadata": {},
   "source": [
    "# Dataset overview\n",
    "# We inspected our final dataset using the following methods: .head(), .info(), .tail(), .shape()"
   ]
  },
  {
   "cell_type": "code",
   "execution_count": 47,
   "id": "2615f2e6",
   "metadata": {},
   "outputs": [
    {
     "data": {
      "text/html": [
       "<div>\n",
       "<style scoped>\n",
       "    .dataframe tbody tr th:only-of-type {\n",
       "        vertical-align: middle;\n",
       "    }\n",
       "\n",
       "    .dataframe tbody tr th {\n",
       "        vertical-align: top;\n",
       "    }\n",
       "\n",
       "    .dataframe thead th {\n",
       "        text-align: right;\n",
       "    }\n",
       "</style>\n",
       "<table border=\"1\" class=\"dataframe\">\n",
       "  <thead>\n",
       "    <tr style=\"text-align: right;\">\n",
       "      <th></th>\n",
       "      <th>Company Name</th>\n",
       "      <th>Sector</th>\n",
       "      <th>Stage</th>\n",
       "      <th>Amount($)</th>\n",
       "      <th>Location</th>\n",
       "      <th>Funding Year</th>\n",
       "      <th>Founders</th>\n",
       "      <th>Investor</th>\n",
       "    </tr>\n",
       "  </thead>\n",
       "  <tbody>\n",
       "    <tr>\n",
       "      <th>0</th>\n",
       "      <td>TheCollegeFever</td>\n",
       "      <td>Brand Marketing</td>\n",
       "      <td>Seed</td>\n",
       "      <td>250000.0</td>\n",
       "      <td>Bangalore</td>\n",
       "      <td>2018.0</td>\n",
       "      <td>Arnav Kumar</td>\n",
       "      <td>Undisclosed</td>\n",
       "    </tr>\n",
       "    <tr>\n",
       "      <th>1</th>\n",
       "      <td>PayMe India</td>\n",
       "      <td>Financial Services</td>\n",
       "      <td>Angel</td>\n",
       "      <td>2000000.0</td>\n",
       "      <td>Noida</td>\n",
       "      <td>2018.0</td>\n",
       "      <td>Arnav Kumar</td>\n",
       "      <td>Undisclosed</td>\n",
       "    </tr>\n",
       "    <tr>\n",
       "      <th>2</th>\n",
       "      <td>Eunimart</td>\n",
       "      <td>E-Commerce Platforms</td>\n",
       "      <td>Seed</td>\n",
       "      <td>1600000.0</td>\n",
       "      <td>Hyderabad</td>\n",
       "      <td>2018.0</td>\n",
       "      <td>Arnav Kumar</td>\n",
       "      <td>Undisclosed</td>\n",
       "    </tr>\n",
       "    <tr>\n",
       "      <th>3</th>\n",
       "      <td>Hasura</td>\n",
       "      <td>Cloud Infrastructure</td>\n",
       "      <td>Seed</td>\n",
       "      <td>1600000.0</td>\n",
       "      <td>Bengaluru</td>\n",
       "      <td>2018.0</td>\n",
       "      <td>Arnav Kumar</td>\n",
       "      <td>Undisclosed</td>\n",
       "    </tr>\n",
       "    <tr>\n",
       "      <th>4</th>\n",
       "      <td>Freightwalla</td>\n",
       "      <td>Information Services</td>\n",
       "      <td>Seed</td>\n",
       "      <td>1600000.0</td>\n",
       "      <td>Mumbai</td>\n",
       "      <td>2018.0</td>\n",
       "      <td>Arnav Kumar</td>\n",
       "      <td>Undisclosed</td>\n",
       "    </tr>\n",
       "  </tbody>\n",
       "</table>\n",
       "</div>"
      ],
      "text/plain": [
       "      Company Name                Sector  Stage  Amount($)   Location  \\\n",
       "0  TheCollegeFever       Brand Marketing   Seed   250000.0  Bangalore   \n",
       "1      PayMe India    Financial Services  Angel  2000000.0      Noida   \n",
       "2         Eunimart  E-Commerce Platforms   Seed  1600000.0  Hyderabad   \n",
       "3           Hasura  Cloud Infrastructure   Seed  1600000.0  Bengaluru   \n",
       "4     Freightwalla  Information Services   Seed  1600000.0     Mumbai   \n",
       "\n",
       "   Funding Year     Founders     Investor  \n",
       "0        2018.0  Arnav Kumar  Undisclosed  \n",
       "1        2018.0  Arnav Kumar  Undisclosed  \n",
       "2        2018.0  Arnav Kumar  Undisclosed  \n",
       "3        2018.0  Arnav Kumar  Undisclosed  \n",
       "4        2018.0  Arnav Kumar  Undisclosed  "
      ]
     },
     "execution_count": 47,
     "metadata": {},
     "output_type": "execute_result"
    }
   ],
   "source": [
    "data_final.head()"
   ]
  },
  {
   "cell_type": "code",
   "execution_count": 48,
   "id": "6d907acb",
   "metadata": {},
   "outputs": [
    {
     "data": {
      "text/html": [
       "<div>\n",
       "<style scoped>\n",
       "    .dataframe tbody tr th:only-of-type {\n",
       "        vertical-align: middle;\n",
       "    }\n",
       "\n",
       "    .dataframe tbody tr th {\n",
       "        vertical-align: top;\n",
       "    }\n",
       "\n",
       "    .dataframe thead th {\n",
       "        text-align: right;\n",
       "    }\n",
       "</style>\n",
       "<table border=\"1\" class=\"dataframe\">\n",
       "  <thead>\n",
       "    <tr style=\"text-align: right;\">\n",
       "      <th></th>\n",
       "      <th>Company Name</th>\n",
       "      <th>Sector</th>\n",
       "      <th>Stage</th>\n",
       "      <th>Amount($)</th>\n",
       "      <th>Location</th>\n",
       "      <th>Funding Year</th>\n",
       "      <th>Founders</th>\n",
       "      <th>Investor</th>\n",
       "    </tr>\n",
       "  </thead>\n",
       "  <tbody>\n",
       "    <tr>\n",
       "      <th>2729</th>\n",
       "      <td>Gigforce</td>\n",
       "      <td>Staffing &amp; Recruiting</td>\n",
       "      <td>Pre-series A</td>\n",
       "      <td>1600000.0</td>\n",
       "      <td>Gurugram</td>\n",
       "      <td>2019.0</td>\n",
       "      <td>Chirag Mittal, Anirudh Syal</td>\n",
       "      <td>Endiya Partners</td>\n",
       "    </tr>\n",
       "    <tr>\n",
       "      <th>2730</th>\n",
       "      <td>Vahdam</td>\n",
       "      <td>Food &amp; Beverages</td>\n",
       "      <td>Series D</td>\n",
       "      <td>1600000.0</td>\n",
       "      <td>New Delhi</td>\n",
       "      <td>2015.0</td>\n",
       "      <td>Bala Sarda</td>\n",
       "      <td>IIFL AMC</td>\n",
       "    </tr>\n",
       "    <tr>\n",
       "      <th>2731</th>\n",
       "      <td>Leap Finance</td>\n",
       "      <td>Financial Services</td>\n",
       "      <td>Series C</td>\n",
       "      <td>1600000.0</td>\n",
       "      <td>Bangalore</td>\n",
       "      <td>2019.0</td>\n",
       "      <td>Arnav Kumar, Vaibhav Singh</td>\n",
       "      <td>Owl Ventures</td>\n",
       "    </tr>\n",
       "    <tr>\n",
       "      <th>2732</th>\n",
       "      <td>CollegeDekho</td>\n",
       "      <td>EdTech</td>\n",
       "      <td>Series B</td>\n",
       "      <td>1600000.0</td>\n",
       "      <td>Gurugram</td>\n",
       "      <td>2015.0</td>\n",
       "      <td>Ruchir Arora</td>\n",
       "      <td>Winter Capital, ETS, Man Capital</td>\n",
       "    </tr>\n",
       "    <tr>\n",
       "      <th>2733</th>\n",
       "      <td>WeRize</td>\n",
       "      <td>Financial Services</td>\n",
       "      <td>Series A</td>\n",
       "      <td>1600000.0</td>\n",
       "      <td>Bangalore</td>\n",
       "      <td>2019.0</td>\n",
       "      <td>Vishal Chopra, Himanshu Gupta</td>\n",
       "      <td>3one4 Capital, Kalaari Capital</td>\n",
       "    </tr>\n",
       "  </tbody>\n",
       "</table>\n",
       "</div>"
      ],
      "text/plain": [
       "      Company Name                 Sector         Stage  Amount($)   Location  \\\n",
       "2729      Gigforce  Staffing & Recruiting  Pre-series A  1600000.0   Gurugram   \n",
       "2730        Vahdam       Food & Beverages      Series D  1600000.0  New Delhi   \n",
       "2731  Leap Finance     Financial Services      Series C  1600000.0  Bangalore   \n",
       "2732  CollegeDekho                 EdTech      Series B  1600000.0   Gurugram   \n",
       "2733        WeRize     Financial Services      Series A  1600000.0  Bangalore   \n",
       "\n",
       "      Funding Year                       Founders  \\\n",
       "2729        2019.0    Chirag Mittal, Anirudh Syal   \n",
       "2730        2015.0                     Bala Sarda   \n",
       "2731        2019.0     Arnav Kumar, Vaibhav Singh   \n",
       "2732        2015.0                   Ruchir Arora   \n",
       "2733        2019.0  Vishal Chopra, Himanshu Gupta   \n",
       "\n",
       "                              Investor  \n",
       "2729                   Endiya Partners  \n",
       "2730                          IIFL AMC  \n",
       "2731                      Owl Ventures  \n",
       "2732  Winter Capital, ETS, Man Capital  \n",
       "2733    3one4 Capital, Kalaari Capital  "
      ]
     },
     "execution_count": 48,
     "metadata": {},
     "output_type": "execute_result"
    }
   ],
   "source": [
    "data_final.tail()"
   ]
  },
  {
   "cell_type": "code",
   "execution_count": 49,
   "id": "46438f8a",
   "metadata": {},
   "outputs": [
    {
     "name": "stdout",
     "output_type": "stream",
     "text": [
      "<class 'pandas.core.frame.DataFrame'>\n",
      "RangeIndex: 2734 entries, 0 to 2733\n",
      "Data columns (total 8 columns):\n",
      " #   Column        Non-Null Count  Dtype  \n",
      "---  ------        --------------  -----  \n",
      " 0   Company Name  2734 non-null   object \n",
      " 1   Sector        2716 non-null   object \n",
      " 2   Stage         2734 non-null   object \n",
      " 3   Amount($)     2734 non-null   float64\n",
      " 4   Location      2620 non-null   object \n",
      " 5   Funding Year  2734 non-null   float64\n",
      " 6   Founders      2734 non-null   object \n",
      " 7   Investor      2734 non-null   object \n",
      "dtypes: float64(2), object(6)\n",
      "memory usage: 171.0+ KB\n"
     ]
    }
   ],
   "source": [
    "data_final.info()"
   ]
  },
  {
   "cell_type": "code",
   "execution_count": 50,
   "id": "c348e949",
   "metadata": {},
   "outputs": [
    {
     "data": {
      "text/plain": [
       "(2734, 8)"
      ]
     },
     "execution_count": 50,
     "metadata": {},
     "output_type": "execute_result"
    }
   ],
   "source": [
    "data_final.shape"
   ]
  },
  {
   "cell_type": "code",
   "execution_count": 51,
   "id": "e74a454d",
   "metadata": {},
   "outputs": [
    {
     "data": {
      "text/html": [
       "<div>\n",
       "<style scoped>\n",
       "    .dataframe tbody tr th:only-of-type {\n",
       "        vertical-align: middle;\n",
       "    }\n",
       "\n",
       "    .dataframe tbody tr th {\n",
       "        vertical-align: top;\n",
       "    }\n",
       "\n",
       "    .dataframe thead th {\n",
       "        text-align: right;\n",
       "    }\n",
       "</style>\n",
       "<table border=\"1\" class=\"dataframe\">\n",
       "  <thead>\n",
       "    <tr style=\"text-align: right;\">\n",
       "      <th></th>\n",
       "      <th>count</th>\n",
       "      <th>mean</th>\n",
       "      <th>std</th>\n",
       "      <th>min</th>\n",
       "      <th>25%</th>\n",
       "      <th>50%</th>\n",
       "      <th>75%</th>\n",
       "      <th>max</th>\n",
       "    </tr>\n",
       "  </thead>\n",
       "  <tbody>\n",
       "    <tr>\n",
       "      <th>Amount($)</th>\n",
       "      <td>2734.0</td>\n",
       "      <td>3.438936e+06</td>\n",
       "      <td>2.850725e+07</td>\n",
       "      <td>7500.0</td>\n",
       "      <td>1600000.0</td>\n",
       "      <td>1600000.0</td>\n",
       "      <td>1600000.0</td>\n",
       "      <td>1.000000e+09</td>\n",
       "    </tr>\n",
       "    <tr>\n",
       "      <th>Funding Year</th>\n",
       "      <td>2734.0</td>\n",
       "      <td>2.016373e+03</td>\n",
       "      <td>3.893420e+00</td>\n",
       "      <td>1963.0</td>\n",
       "      <td>2015.0</td>\n",
       "      <td>2017.0</td>\n",
       "      <td>2018.0</td>\n",
       "      <td>2.021000e+03</td>\n",
       "    </tr>\n",
       "  </tbody>\n",
       "</table>\n",
       "</div>"
      ],
      "text/plain": [
       "               count          mean           std     min        25%  \\\n",
       "Amount($)     2734.0  3.438936e+06  2.850725e+07  7500.0  1600000.0   \n",
       "Funding Year  2734.0  2.016373e+03  3.893420e+00  1963.0     2015.0   \n",
       "\n",
       "                    50%        75%           max  \n",
       "Amount($)     1600000.0  1600000.0  1.000000e+09  \n",
       "Funding Year     2017.0     2018.0  2.021000e+03  "
      ]
     },
     "execution_count": 51,
     "metadata": {},
     "output_type": "execute_result"
    }
   ],
   "source": [
    "data_final.describe().T"
   ]
  },
  {
   "cell_type": "code",
   "execution_count": 52,
   "id": "c6e9532a",
   "metadata": {},
   "outputs": [
    {
     "data": {
      "text/plain": [
       "Int64Index([   0,    1,    2,    3,    4,    5,    6,    7,    8,    9,\n",
       "            ...\n",
       "            2503, 2514, 2517, 2524, 2525, 2605, 2613, 2698, 2699, 2702],\n",
       "           dtype='int64', length=494)"
      ]
     },
     "execution_count": 52,
     "metadata": {},
     "output_type": "execute_result"
    }
   ],
   "source": [
    "index_ = data_final.index[data_final['Investor']=='Undisclosed']\n",
    "index_"
   ]
  },
  {
   "cell_type": "code",
   "execution_count": 53,
   "id": "cb79b8a1",
   "metadata": {},
   "outputs": [],
   "source": [
    "data_final['Investor'] = data_final['Investor'].replace('Undisclosed', np.nan)"
   ]
  },
  {
   "cell_type": "code",
   "execution_count": 54,
   "id": "c7ec5ebd",
   "metadata": {},
   "outputs": [
    {
     "data": {
      "text/plain": [
       "0    Bangalore\n",
       "1        Noida\n",
       "2    Hyderabad\n",
       "3    Bengaluru\n",
       "4       Mumbai\n",
       "Name: Location, dtype: object"
      ]
     },
     "execution_count": 54,
     "metadata": {},
     "output_type": "execute_result"
    }
   ],
   "source": [
    "#Strip the location data to only the city-area. \n",
    "data_final['Location'] = data_final.Location.str.split(',').str[0]\n",
    "data_final['Location'].head()"
   ]
  },
  {
   "cell_type": "code",
   "execution_count": 55,
   "id": "b5c55e9c",
   "metadata": {},
   "outputs": [
    {
     "data": {
      "text/plain": [
       "<AxesSubplot:>"
      ]
     },
     "execution_count": 55,
     "metadata": {},
     "output_type": "execute_result"
    },
    {
     "data": {
      "image/png": "[encoded data removed]",
      "text/plain": [
       "<Figure size 720x432 with 2 Axes>"
      ]
     },
     "metadata": {},
     "output_type": "display_data"
    }
   ],
   "source": [
    "plt.figure(figsize=(10,6))\n",
    "sns.heatmap(data_final.isna(),\n",
    "            cmap=\"YlGnBu\",\n",
    "            cbar_kws={'label': 'Missing Data'})"
   ]
  },
  {
   "cell_type": "code",
   "execution_count": 62,
   "id": "15ec62fa",
   "metadata": {},
   "outputs": [
    {
     "data": {
      "text/plain": [
       "Company Name      0\n",
       "Sector           18\n",
       "Stage             0\n",
       "Amount($)         0\n",
       "Location        114\n",
       "Funding Year      0\n",
       "Founders          0\n",
       "Investor        494\n",
       "dtype: int64"
      ]
     },
     "execution_count": 62,
     "metadata": {},
     "output_type": "execute_result"
    }
   ],
   "source": [
    "data_final.isnull().sum()"
   ]
  },
  {
   "cell_type": "code",
   "execution_count": 56,
   "id": "a1ba3025",
   "metadata": {},
   "outputs": [],
   "source": [
    "# Find the mode of the 'Investor' column\n",
    "mode = data_final['Founders'].mode()[0]"
   ]
  },
  {
   "cell_type": "code",
   "execution_count": 57,
   "id": "3979dfc1",
   "metadata": {},
   "outputs": [
    {
     "data": {
      "text/plain": [
       "'Arnav Kumar'"
      ]
     },
     "execution_count": 57,
     "metadata": {},
     "output_type": "execute_result"
    }
   ],
   "source": [
    "mode"
   ]
  },
  {
   "cell_type": "code",
   "execution_count": 58,
   "id": "19929fa0",
   "metadata": {},
   "outputs": [],
   "source": [
    "# Replace missing values in the 'Founders' column with the mode\n",
    "data_final['Founders'].fillna(mode, inplace=True)"
   ]
  },
  {
   "cell_type": "code",
   "execution_count": 59,
   "id": "2694097b",
   "metadata": {},
   "outputs": [],
   "source": [
    "# Find the mode of the 'Location' column\n",
    "mode = data_final['Location'].mode()[0]"
   ]
  },
  {
   "cell_type": "code",
   "execution_count": 60,
   "id": "fbfa0513",
   "metadata": {},
   "outputs": [
    {
     "data": {
      "text/plain": [
       "'Bangalore'"
      ]
     },
     "execution_count": 60,
     "metadata": {},
     "output_type": "execute_result"
    }
   ],
   "source": [
    "mode"
   ]
  },
  {
   "cell_type": "code",
   "execution_count": 61,
   "id": "b64024fa",
   "metadata": {},
   "outputs": [],
   "source": [
    "# Replace missing values in the 'Location' column with the mode\n",
    "data_final['Location'].fillna(mode, inplace=True)"
   ]
  },
  {
   "cell_type": "code",
   "execution_count": 62,
   "id": "5b2cc7bc",
   "metadata": {},
   "outputs": [
    {
     "data": {
      "text/plain": [
       "Company Name      0\n",
       "Sector           18\n",
       "Stage             0\n",
       "Amount($)         0\n",
       "Location          0\n",
       "Funding Year      0\n",
       "Founders          0\n",
       "Investor        494\n",
       "dtype: int64"
      ]
     },
     "execution_count": 62,
     "metadata": {},
     "output_type": "execute_result"
    }
   ],
   "source": [
    "data_final.isnull().sum()"
   ]
  },
  {
   "cell_type": "code",
   "execution_count": 63,
   "id": "3240bf5e",
   "metadata": {},
   "outputs": [],
   "source": [
    "# drop the NaN values\n",
    "data_final = data_final.dropna()"
   ]
  },
  {
   "cell_type": "code",
   "execution_count": 64,
   "id": "77129408",
   "metadata": {},
   "outputs": [
    {
     "data": {
      "text/plain": [
       "<AxesSubplot:>"
      ]
     },
     "execution_count": 64,
     "metadata": {},
     "output_type": "execute_result"
    },
    {
     "data": {
      "image/png": "[encoded data removed]",
      "text/plain": [
       "<Figure size 720x432 with 2 Axes>"
      ]
     },
     "metadata": {},
     "output_type": "display_data"
    }
   ],
   "source": [
    "plt.figure(figsize=(10,6))\n",
    "sns.heatmap(data_final.isna(),\n",
    "            cmap=\"YlGnBu\",\n",
    "            cbar_kws={'label': 'Missing Data'})"
   ]
  },
  {
   "cell_type": "code",
   "execution_count": 65,
   "id": "cf5f7e31",
   "metadata": {},
   "outputs": [
    {
     "data": {
      "text/plain": [
       "Company Name    0\n",
       "Sector          0\n",
       "Stage           0\n",
       "Amount($)       0\n",
       "Location        0\n",
       "Funding Year    0\n",
       "Founders        0\n",
       "Investor        0\n",
       "dtype: int64"
      ]
     },
     "execution_count": 65,
     "metadata": {},
     "output_type": "execute_result"
    }
   ],
   "source": [
    "data_final.isnull().sum()"
   ]
  },
  {
   "cell_type": "code",
   "execution_count": 123,
   "id": "1edeadfc",
   "metadata": {},
   "outputs": [],
   "source": [
    "# data_final.to_csv('data_startup.csv')"
   ]
  },
  {
   "cell_type": "markdown",
   "id": "9b00047b",
   "metadata": {},
   "source": [
    "Column by column analysis "
   ]
  },
  {
   "cell_type": "markdown",
   "id": "ae23db52",
   "metadata": {},
   "source": [
    "In this session, we discuss each column into detail to ascertain some level of information that assist us answer our question asked in week 1. This may include the use of .describe() method, matplotlib and other statistical tools"
   ]
  },
  {
   "cell_type": "markdown",
   "id": "86b4ebc5",
   "metadata": {},
   "source": [
    "we will first consider the Company Name"
   ]
  },
  {
   "cell_type": "code",
   "execution_count": 66,
   "id": "23cbc3fe",
   "metadata": {},
   "outputs": [
    {
     "data": {
      "text/plain": [
       "381    Bombay Shaving\n",
       "382         Ruangguru\n",
       "383          Eduisfun\n",
       "384          HomeLane\n",
       "385          Nu Genes\n",
       "Name: Company Name, dtype: object"
      ]
     },
     "execution_count": 66,
     "metadata": {},
     "output_type": "execute_result"
    }
   ],
   "source": [
    "data_final['Company Name'].head()"
   ]
  },
  {
   "cell_type": "markdown",
   "id": "a6ce955f",
   "metadata": {},
   "source": [
    "Sector"
   ]
  },
  {
   "cell_type": "code",
   "execution_count": 67,
   "id": "2a5a0e65",
   "metadata": {},
   "outputs": [
    {
     "data": {
      "text/plain": [
       "381          Ecommerce\n",
       "382             Edtech\n",
       "383             Edtech\n",
       "384    Interior design\n",
       "385           AgriTech\n",
       "Name: Sector, dtype: object"
      ]
     },
     "execution_count": 67,
     "metadata": {},
     "output_type": "execute_result"
    }
   ],
   "source": [
    "data_final['Sector'].head()"
   ]
  },
  {
   "cell_type": "markdown",
   "id": "db1dfd0e",
   "metadata": {},
   "source": [
    "Stage"
   ]
  },
  {
   "cell_type": "code",
   "execution_count": 68,
   "id": "64d7edff",
   "metadata": {},
   "outputs": [
    {
     "data": {
      "text/plain": [
       "381     Bridge Round\n",
       "382         Series C\n",
       "383    Fresh funding\n",
       "384         Series D\n",
       "385     Bridge Round\n",
       "Name: Stage, dtype: object"
      ]
     },
     "execution_count": 68,
     "metadata": {},
     "output_type": "execute_result"
    }
   ],
   "source": [
    "data_final['Stage'].head()"
   ]
  },
  {
   "cell_type": "markdown",
   "id": "4c0c8345",
   "metadata": {},
   "source": [
    "Amount($)"
   ]
  },
  {
   "cell_type": "code",
   "execution_count": 69,
   "id": "2cc7c0de",
   "metadata": {},
   "outputs": [
    {
     "data": {
      "text/plain": [
       "381    1600000.0\n",
       "382    1600000.0\n",
       "383    1600000.0\n",
       "384    1600000.0\n",
       "385    1600000.0\n",
       "Name: Amount($), dtype: float64"
      ]
     },
     "execution_count": 69,
     "metadata": {},
     "output_type": "execute_result"
    }
   ],
   "source": [
    "data_final['Amount($)'].head()"
   ]
  },
  {
   "cell_type": "code",
   "execution_count": 70,
   "id": "c18e2e10",
   "metadata": {},
   "outputs": [],
   "source": [
    "# calculate basic statistical measures\n",
    "data_final_mean = data_final['Amount($)'].mean()\n",
    "data_final_median = data_final['Amount($)'].median()\n",
    "data_final_mode = data_final['Amount($)'].mode()\n",
    "data_final_std_dev = data_final['Amount($)'].std()\n",
    "data_final_min_val = data_final['Amount($)'].min()\n",
    "data_final_max_val = data_final['Amount($)'].max()"
   ]
  },
  {
   "cell_type": "code",
   "execution_count": 71,
   "id": "298ac5f9",
   "metadata": {},
   "outputs": [
    {
     "name": "stdout",
     "output_type": "stream",
     "text": [
      "Mean:  1600000.0\n",
      "Median:  1600000.0\n",
      "Mode:  0    1600000.0\n",
      "Name: Amount($), dtype: float64\n",
      "Standard Deviation:  0.0\n",
      "Minimum Value:  1600000.0\n",
      "Maximum Value:  1600000.0\n"
     ]
    }
   ],
   "source": [
    "print(\"Mean: \", data_final_mean)\n",
    "print(\"Median: \", data_final_median)\n",
    "print(\"Mode: \", data_final_mode)\n",
    "print(\"Standard Deviation: \", data_final_std_dev)\n",
    "print(\"Minimum Value: \", data_final_min_val)\n",
    "print(\"Maximum Value: \", data_final_max_val)"
   ]
  },
  {
   "cell_type": "code",
   "execution_count": 72,
   "id": "f620d523",
   "metadata": {},
   "outputs": [],
   "source": [
    "# create a histogram\n",
    "# plt.hist(data_final['Amount($)'])\n",
    "# plt.xlabel('Amount($)')\n",
    "# plt.ylabel('Frequency')\n",
    "# plt.title('Histogram of Amount($)')\n",
    "# plt.show()"
   ]
  },
  {
   "cell_type": "markdown",
   "id": "66afcf8c",
   "metadata": {},
   "source": [
    "Analysis on the Sector"
   ]
  },
  {
   "cell_type": "code",
   "execution_count": 80,
   "id": "793949bf",
   "metadata": {},
   "outputs": [],
   "source": [
    "# Group the DataFrame by the 'Stage' column and count the occurrences of each stage\n",
    "# Sector_counts = data_final.groupby('Sector')['Amount($)'].count().reset_index()"
   ]
  },
  {
   "cell_type": "code",
   "execution_count": null,
   "id": "907e8c9b",
   "metadata": {},
   "outputs": [],
   "source": [
    "# Sort the counts in descending order and select the top 5 values\n",
    "# Sector_counts = Sector_counts.sort_values(by='Amount($)', ascending=False).head(5)"
   ]
  },
  {
   "cell_type": "code",
   "execution_count": null,
   "id": "7e8070ec",
   "metadata": {},
   "outputs": [],
   "source": [
    "# Create the donut chart\n",
    "# fig = px.pie(Sector_counts, values='Amount($)', names='Sector', hole=.4)\n",
    "\n",
    "# fig.show()"
   ]
  },
  {
   "cell_type": "code",
   "execution_count": 73,
   "id": "19c8ba1a",
   "metadata": {},
   "outputs": [
    {
     "data": {
      "text/html": [
       "<div>\n",
       "<style scoped>\n",
       "    .dataframe tbody tr th:only-of-type {\n",
       "        vertical-align: middle;\n",
       "    }\n",
       "\n",
       "    .dataframe tbody tr th {\n",
       "        vertical-align: top;\n",
       "    }\n",
       "\n",
       "    .dataframe thead th {\n",
       "        text-align: right;\n",
       "    }\n",
       "</style>\n",
       "<table border=\"1\" class=\"dataframe\">\n",
       "  <thead>\n",
       "    <tr style=\"text-align: right;\">\n",
       "      <th></th>\n",
       "      <th>Investor</th>\n",
       "      <th>Amount($)</th>\n",
       "    </tr>\n",
       "  </thead>\n",
       "  <tbody>\n",
       "    <tr>\n",
       "      <th>628</th>\n",
       "      <td>I2I Capitals</td>\n",
       "      <td>1</td>\n",
       "    </tr>\n",
       "    <tr>\n",
       "      <th>627</th>\n",
       "      <td>Hyperplane Venture Capital</td>\n",
       "      <td>1</td>\n",
       "    </tr>\n",
       "    <tr>\n",
       "      <th>626</th>\n",
       "      <td>Hungama, Hindustan Talkies</td>\n",
       "      <td>1</td>\n",
       "    </tr>\n",
       "    <tr>\n",
       "      <th>625</th>\n",
       "      <td>Hummingbird Ventures, Bedrock Capital</td>\n",
       "      <td>1</td>\n",
       "    </tr>\n",
       "    <tr>\n",
       "      <th>624</th>\n",
       "      <td>Huddle Accelerator</td>\n",
       "      <td>1</td>\n",
       "    </tr>\n",
       "    <tr>\n",
       "      <th>623</th>\n",
       "      <td>HostelFund</td>\n",
       "      <td>1</td>\n",
       "    </tr>\n",
       "    <tr>\n",
       "      <th>622</th>\n",
       "      <td>Hornbill Capital Advisers, Plutus Wealth Manag...</td>\n",
       "      <td>1</td>\n",
       "    </tr>\n",
       "    <tr>\n",
       "      <th>621</th>\n",
       "      <td>Homage Ventures.</td>\n",
       "      <td>1</td>\n",
       "    </tr>\n",
       "    <tr>\n",
       "      <th>620</th>\n",
       "      <td>Hitesh Oberoi, Lightbox</td>\n",
       "      <td>1</td>\n",
       "    </tr>\n",
       "    <tr>\n",
       "      <th>1764</th>\n",
       "      <td>velocity.in</td>\n",
       "      <td>1</td>\n",
       "    </tr>\n",
       "  </tbody>\n",
       "</table>\n",
       "</div>"
      ],
      "text/plain": [
       "                                               Investor  Amount($)\n",
       "628                                        I2I Capitals          1\n",
       "627                          Hyperplane Venture Capital          1\n",
       "626                          Hungama, Hindustan Talkies          1\n",
       "625               Hummingbird Ventures, Bedrock Capital          1\n",
       "624                                  Huddle Accelerator          1\n",
       "623                                          HostelFund          1\n",
       "622   Hornbill Capital Advisers, Plutus Wealth Manag...          1\n",
       "621                                    Homage Ventures.          1\n",
       "620                             Hitesh Oberoi, Lightbox          1\n",
       "1764                                        velocity.in          1"
      ]
     },
     "execution_count": 73,
     "metadata": {},
     "output_type": "execute_result"
    }
   ],
   "source": [
    "# Group the DataFrame by the 'Stage' column and count the occurrences of each stage\n",
    "Investor_counts = data_final.groupby('Investor')['Amount($)'].count().reset_index()\n",
    "\n",
    "# Sort the counts in descending order and select the top 5 values\n",
    "Investor_counts = Investor_counts.sort_values(by='Amount($)', ascending=False).tail(10)\n",
    "\n",
    "Investor_counts"
   ]
  },
  {
   "cell_type": "code",
   "execution_count": 74,
   "id": "fd891c2f",
   "metadata": {},
   "outputs": [
    {
     "data": {
      "text/html": [
       "<div>\n",
       "<style scoped>\n",
       "    .dataframe tbody tr th:only-of-type {\n",
       "        vertical-align: middle;\n",
       "    }\n",
       "\n",
       "    .dataframe tbody tr th {\n",
       "        vertical-align: top;\n",
       "    }\n",
       "\n",
       "    .dataframe thead th {\n",
       "        text-align: right;\n",
       "    }\n",
       "</style>\n",
       "<table border=\"1\" class=\"dataframe\">\n",
       "  <thead>\n",
       "    <tr style=\"text-align: right;\">\n",
       "      <th></th>\n",
       "      <th>Amount($)</th>\n",
       "      <th>Funding Year</th>\n",
       "    </tr>\n",
       "  </thead>\n",
       "  <tbody>\n",
       "    <tr>\n",
       "      <th>Amount($)</th>\n",
       "      <td>NaN</td>\n",
       "      <td>NaN</td>\n",
       "    </tr>\n",
       "    <tr>\n",
       "      <th>Funding Year</th>\n",
       "      <td>NaN</td>\n",
       "      <td>1.0</td>\n",
       "    </tr>\n",
       "  </tbody>\n",
       "</table>\n",
       "</div>"
      ],
      "text/plain": [
       "              Amount($)  Funding Year\n",
       "Amount($)           NaN           NaN\n",
       "Funding Year        NaN           1.0"
      ]
     },
     "execution_count": 74,
     "metadata": {},
     "output_type": "execute_result"
    }
   ],
   "source": [
    "corr_matrix=data_final.corr()\n",
    "\n",
    "corr_matrix"
   ]
  },
  {
   "cell_type": "code",
   "execution_count": 75,
   "id": "3462f9f1",
   "metadata": {},
   "outputs": [
    {
     "data": {
      "text/plain": [
       "<AxesSubplot:xlabel='Amount($)', ylabel='Funding Year'>"
      ]
     },
     "execution_count": 75,
     "metadata": {},
     "output_type": "execute_result"
    },
    {
     "data": {
      "image/png": "[encoded data removed]",
      "text/plain": [
       "<Figure size 432x288 with 1 Axes>"
      ]
     },
     "metadata": {},
     "output_type": "display_data"
    }
   ],
   "source": [
    "sns.regplot(x='Amount($)', y='Funding Year', data=data_final, scatter_kws={'color':'red'}, line_kws={'color':'blue'})"
   ]
  },
  {
   "cell_type": "code",
   "execution_count": 76,
   "id": "4cb6ac6c",
   "metadata": {},
   "outputs": [
    {
     "data": {
      "image/png": "[encoded data removed]",
      "text/plain": [
       "<Figure size 432x288 with 1 Axes>"
      ]
     },
     "metadata": {},
     "output_type": "display_data"
    }
   ],
   "source": [
    "x = data_final['Amount($)']\n",
    "y = data_final['Funding Year']\n",
    "\n",
    "corr, _ = pearsonr(x, y)\n",
    "plt.scatter(x, y)\n",
    "plt.xlabel('Amount($)')\n",
    "plt.ylabel('Funding Year')\n",
    "plt.title('Scatter plot with correlation coefficient')\n",
    "plt.annotate(f'corr {corr:.2f}', (0.5, 0.5), xycoords='axes fraction', ha='center')\n",
    "plt.show()"
   ]
  },
  {
   "cell_type": "markdown",
   "id": "6628ec9d",
   "metadata": {},
   "source": [
    "# QUESTIONS TO BE ANSWERED"
   ]
  },
  {
   "cell_type": "markdown",
   "id": "fe0aca93",
   "metadata": {},
   "source": [
    "# QUESTION 1: Which type of start-up location gets the most funding?"
   ]
  },
  {
   "cell_type": "code",
   "execution_count": 77,
   "id": "01acf422",
   "metadata": {},
   "outputs": [],
   "source": [
    "index_new = data_final.index[data_final['Location']=='California']\n",
    "#index_new\n",
    "Location_data = data_final.drop(labels=index_new, axis=0)"
   ]
  },
  {
   "cell_type": "code",
   "execution_count": 78,
   "id": "4de03c85",
   "metadata": {},
   "outputs": [
    {
     "data": {
      "text/plain": [
       "Int64Index([646, 787, 856, 858, 869], dtype='int64')"
      ]
     },
     "execution_count": 78,
     "metadata": {},
     "output_type": "execute_result"
    }
   ],
   "source": [
    "index_new"
   ]
  },
  {
   "cell_type": "code",
   "execution_count": 79,
   "id": "b7175751",
   "metadata": {},
   "outputs": [
    {
     "data": {
      "text/html": [
       "<div>\n",
       "<style scoped>\n",
       "    .dataframe tbody tr th:only-of-type {\n",
       "        vertical-align: middle;\n",
       "    }\n",
       "\n",
       "    .dataframe tbody tr th {\n",
       "        vertical-align: top;\n",
       "    }\n",
       "\n",
       "    .dataframe thead th {\n",
       "        text-align: right;\n",
       "    }\n",
       "</style>\n",
       "<table border=\"1\" class=\"dataframe\">\n",
       "  <thead>\n",
       "    <tr style=\"text-align: right;\">\n",
       "      <th></th>\n",
       "      <th>Location</th>\n",
       "      <th>Amount($)</th>\n",
       "    </tr>\n",
       "  </thead>\n",
       "  <tbody>\n",
       "    <tr>\n",
       "      <th>5</th>\n",
       "      <td>Bangalore</td>\n",
       "      <td>1.336000e+09</td>\n",
       "    </tr>\n",
       "    <tr>\n",
       "      <th>56</th>\n",
       "      <td>Mumbai</td>\n",
       "      <td>5.680000e+08</td>\n",
       "    </tr>\n",
       "    <tr>\n",
       "      <th>32</th>\n",
       "      <td>Gurugram</td>\n",
       "      <td>3.584000e+08</td>\n",
       "    </tr>\n",
       "    <tr>\n",
       "      <th>58</th>\n",
       "      <td>New Delhi</td>\n",
       "      <td>2.800000e+08</td>\n",
       "    </tr>\n",
       "    <tr>\n",
       "      <th>17</th>\n",
       "      <td>Chennai</td>\n",
       "      <td>1.344000e+08</td>\n",
       "    </tr>\n",
       "    <tr>\n",
       "      <th>71</th>\n",
       "      <td>Pune</td>\n",
       "      <td>1.264000e+08</td>\n",
       "    </tr>\n",
       "    <tr>\n",
       "      <th>61</th>\n",
       "      <td>Noida</td>\n",
       "      <td>1.104000e+08</td>\n",
       "    </tr>\n",
       "    <tr>\n",
       "      <th>22</th>\n",
       "      <td>Delhi</td>\n",
       "      <td>1.056000e+08</td>\n",
       "    </tr>\n",
       "    <tr>\n",
       "      <th>36</th>\n",
       "      <td>Hyderabad</td>\n",
       "      <td>8.960000e+07</td>\n",
       "    </tr>\n",
       "    <tr>\n",
       "      <th>31</th>\n",
       "      <td>Gurgaon</td>\n",
       "      <td>4.000000e+07</td>\n",
       "    </tr>\n",
       "  </tbody>\n",
       "</table>\n",
       "</div>"
      ],
      "text/plain": [
       "     Location     Amount($)\n",
       "5   Bangalore  1.336000e+09\n",
       "56     Mumbai  5.680000e+08\n",
       "32   Gurugram  3.584000e+08\n",
       "58  New Delhi  2.800000e+08\n",
       "17    Chennai  1.344000e+08\n",
       "71       Pune  1.264000e+08\n",
       "61      Noida  1.104000e+08\n",
       "22      Delhi  1.056000e+08\n",
       "36  Hyderabad  8.960000e+07\n",
       "31    Gurgaon  4.000000e+07"
      ]
     },
     "execution_count": 79,
     "metadata": {},
     "output_type": "execute_result"
    }
   ],
   "source": [
    "Location_grp = Location_data.groupby('Location')['Amount($)'].sum().reset_index()\n",
    "top_10_locations = Location_grp.sort_values(by = 'Amount($)', ascending = False).head(10)\n",
    "#top_5_locations = Location_grp.sort_values(by = 'Amount($)', ascending = False).head(5)\n",
    "top_10_locations"
   ]
  },
  {
   "cell_type": "code",
   "execution_count": 80,
   "id": "6b554a1c",
   "metadata": {
    "scrolled": true
   },
   "outputs": [
    {
     "data": {
      "image/png": "[encoded data removed]",
      "text/plain": [
       "<Figure size 720x360 with 1 Axes>"
      ]
     },
     "metadata": {},
     "output_type": "display_data"
    }
   ],
   "source": [
    "fig = plt.figure(figsize = (10, 5))\n",
    "\n",
    "# Create a bar chart to represent the answer\n",
    "\n",
    "sns.barplot(x='Location', y='Amount($)', data=top_10_locations)\n",
    "\n",
    "# Adding labels and title\n",
    "plt.xlabel(\"Location\")\n",
    "plt.ylabel(\"Amount($)\")\n",
    "plt.title(\"Top 10 locations of startups with most funding\")\n",
    "\n",
    "\n",
    "#ax.yaxis.set_major_formatter(ticker.FuncFormatter(lambda x, pos: '{:,.0f}'.format(x)))\n",
    "\n",
    "\n",
    "plt.show()"
   ]
  },
  {
   "cell_type": "markdown",
   "id": "ca71a1d7",
   "metadata": {},
   "source": [
    "From the visual above we can say that Bangalore recieved the most funding followed by Mumbai which had less than half of Bangalore's value. It can also be said that the bottom three startups that recieved the least amount are Delhi, Hyderbad and Gurgaon respectively"
   ]
  },
  {
   "cell_type": "markdown",
   "id": "337e7ac7",
   "metadata": {},
   "source": [
    "# QUESTION 2: At which stage do start-ups get more funding from investors?"
   ]
  },
  {
   "cell_type": "code",
   "execution_count": 81,
   "id": "106ec1da",
   "metadata": {},
   "outputs": [
    {
     "data": {
      "text/html": [
       "<div>\n",
       "<style scoped>\n",
       "    .dataframe tbody tr th:only-of-type {\n",
       "        vertical-align: middle;\n",
       "    }\n",
       "\n",
       "    .dataframe tbody tr th {\n",
       "        vertical-align: top;\n",
       "    }\n",
       "\n",
       "    .dataframe thead th {\n",
       "        text-align: right;\n",
       "    }\n",
       "</style>\n",
       "<table border=\"1\" class=\"dataframe\">\n",
       "  <thead>\n",
       "    <tr style=\"text-align: right;\">\n",
       "      <th></th>\n",
       "      <th>Stage</th>\n",
       "      <th>Amount($)</th>\n",
       "    </tr>\n",
       "  </thead>\n",
       "  <tbody>\n",
       "    <tr>\n",
       "      <th>2</th>\n",
       "      <td>Bridge Round</td>\n",
       "      <td>1.400000e+09</td>\n",
       "    </tr>\n",
       "    <tr>\n",
       "      <th>27</th>\n",
       "      <td>Seed</td>\n",
       "      <td>4.848000e+08</td>\n",
       "    </tr>\n",
       "    <tr>\n",
       "      <th>38</th>\n",
       "      <td>Series A</td>\n",
       "      <td>3.552000e+08</td>\n",
       "    </tr>\n",
       "    <tr>\n",
       "      <th>23</th>\n",
       "      <td>Pre-series A</td>\n",
       "      <td>3.184000e+08</td>\n",
       "    </tr>\n",
       "    <tr>\n",
       "      <th>42</th>\n",
       "      <td>Series B</td>\n",
       "      <td>1.808000e+08</td>\n",
       "    </tr>\n",
       "    <tr>\n",
       "      <th>46</th>\n",
       "      <td>Series C</td>\n",
       "      <td>1.568000e+08</td>\n",
       "    </tr>\n",
       "    <tr>\n",
       "      <th>31</th>\n",
       "      <td>Seed Round</td>\n",
       "      <td>1.024000e+08</td>\n",
       "    </tr>\n",
       "    <tr>\n",
       "      <th>13</th>\n",
       "      <td>Pre series A</td>\n",
       "      <td>9.280000e+07</td>\n",
       "    </tr>\n",
       "    <tr>\n",
       "      <th>20</th>\n",
       "      <td>Pre-seed</td>\n",
       "      <td>9.120000e+07</td>\n",
       "    </tr>\n",
       "    <tr>\n",
       "      <th>48</th>\n",
       "      <td>Series D</td>\n",
       "      <td>7.360000e+07</td>\n",
       "    </tr>\n",
       "  </tbody>\n",
       "</table>\n",
       "</div>"
      ],
      "text/plain": [
       "           Stage     Amount($)\n",
       "2   Bridge Round  1.400000e+09\n",
       "27          Seed  4.848000e+08\n",
       "38      Series A  3.552000e+08\n",
       "23  Pre-series A  3.184000e+08\n",
       "42      Series B  1.808000e+08\n",
       "46      Series C  1.568000e+08\n",
       "31    Seed Round  1.024000e+08\n",
       "13  Pre series A  9.280000e+07\n",
       "20      Pre-seed  9.120000e+07\n",
       "48      Series D  7.360000e+07"
      ]
     },
     "execution_count": 81,
     "metadata": {},
     "output_type": "execute_result"
    }
   ],
   "source": [
    "stage_data = data_final.groupby('Stage')['Amount($)'].sum().reset_index()\n",
    "top_10_stages = stage_data.sort_values(by = 'Amount($)', ascending = False).head(10)\n",
    "top_10_stages"
   ]
  },
  {
   "cell_type": "code",
   "execution_count": 82,
   "id": "c937b4c4",
   "metadata": {},
   "outputs": [
    {
     "data": {
      "image/png": "[encoded data removed]",
      "text/plain": [
       "<Figure size 720x360 with 1 Axes>"
      ]
     },
     "metadata": {},
     "output_type": "display_data"
    }
   ],
   "source": [
    "#displaying the results of the top 10 stages \n",
    "\n",
    "fig = plt.figure(figsize = (10, 5))\n",
    "\n",
    "# Create a bar chart to represent our answer\n",
    "sns.barplot(x='Stage', y='Amount($)', data=top_10_stages)\n",
    "\n",
    "# Adding labels and title\n",
    "plt.xlabel(\"Stage\")\n",
    "plt.ylabel(\"Amount\")\n",
    "plt.title(\"Top 10 startups who received the most funding\")\n",
    "\n",
    "\n",
    "#ax.yaxis.set_major_formatter(ticker.FuncFormatter(lambda x, pos: '{:,.0f}'.format(x)))\n",
    "\n",
    "\n",
    "plt.show()"
   ]
  },
  {
   "cell_type": "markdown",
   "id": "7543e3fa",
   "metadata": {},
   "source": [
    "Bridge Round stage recieved the most funding, Series D had the least funding. It can be concluded that Bridge Round recieved more than twice the funds recieved by Seed stage and any other stages."
   ]
  },
  {
   "cell_type": "markdown",
   "id": "3118aba3",
   "metadata": {},
   "source": [
    "# Question 3: Which type of investors invest the most money?"
   ]
  },
  {
   "cell_type": "code",
   "execution_count": 83,
   "id": "795780df",
   "metadata": {},
   "outputs": [
    {
     "data": {
      "text/html": [
       "<div>\n",
       "<style scoped>\n",
       "    .dataframe tbody tr th:only-of-type {\n",
       "        vertical-align: middle;\n",
       "    }\n",
       "\n",
       "    .dataframe tbody tr th {\n",
       "        vertical-align: top;\n",
       "    }\n",
       "\n",
       "    .dataframe thead th {\n",
       "        text-align: right;\n",
       "    }\n",
       "</style>\n",
       "<table border=\"1\" class=\"dataframe\">\n",
       "  <thead>\n",
       "    <tr style=\"text-align: right;\">\n",
       "      <th></th>\n",
       "      <th>Investor</th>\n",
       "      <th>Amount($)</th>\n",
       "    </tr>\n",
       "  </thead>\n",
       "  <tbody>\n",
       "    <tr>\n",
       "      <th>693</th>\n",
       "      <td>Inflection Point Ventures</td>\n",
       "      <td>57600000.0</td>\n",
       "    </tr>\n",
       "    <tr>\n",
       "      <th>1617</th>\n",
       "      <td>Venture Catalysts</td>\n",
       "      <td>51200000.0</td>\n",
       "    </tr>\n",
       "    <tr>\n",
       "      <th>987</th>\n",
       "      <td>Mumbai Angels Network</td>\n",
       "      <td>27200000.0</td>\n",
       "    </tr>\n",
       "    <tr>\n",
       "      <th>162</th>\n",
       "      <td>Angel investors</td>\n",
       "      <td>24000000.0</td>\n",
       "    </tr>\n",
       "    <tr>\n",
       "      <th>1519</th>\n",
       "      <td>Tiger Global</td>\n",
       "      <td>19200000.0</td>\n",
       "    </tr>\n",
       "    <tr>\n",
       "      <th>1542</th>\n",
       "      <td>Titan Capital</td>\n",
       "      <td>17600000.0</td>\n",
       "    </tr>\n",
       "    <tr>\n",
       "      <th>1586</th>\n",
       "      <td>Unicorn India Ventures</td>\n",
       "      <td>16000000.0</td>\n",
       "    </tr>\n",
       "    <tr>\n",
       "      <th>139</th>\n",
       "      <td>Alteria Capital</td>\n",
       "      <td>14400000.0</td>\n",
       "    </tr>\n",
       "    <tr>\n",
       "      <th>1311</th>\n",
       "      <td>Sequoia Capital India</td>\n",
       "      <td>14400000.0</td>\n",
       "    </tr>\n",
       "    <tr>\n",
       "      <th>280</th>\n",
       "      <td>Better Capital</td>\n",
       "      <td>14400000.0</td>\n",
       "    </tr>\n",
       "  </tbody>\n",
       "</table>\n",
       "</div>"
      ],
      "text/plain": [
       "                       Investor   Amount($)\n",
       "693   Inflection Point Ventures  57600000.0\n",
       "1617          Venture Catalysts  51200000.0\n",
       "987       Mumbai Angels Network  27200000.0\n",
       "162             Angel investors  24000000.0\n",
       "1519               Tiger Global  19200000.0\n",
       "1542              Titan Capital  17600000.0\n",
       "1586     Unicorn India Ventures  16000000.0\n",
       "139             Alteria Capital  14400000.0\n",
       "1311      Sequoia Capital India  14400000.0\n",
       "280              Better Capital  14400000.0"
      ]
     },
     "execution_count": 83,
     "metadata": {},
     "output_type": "execute_result"
    }
   ],
   "source": [
    "Investor_data = data_final.groupby('Investor')['Amount($)'].sum().reset_index()\n",
    "Investor_data = Investor_data.sort_values(by = 'Amount($)', ascending = False)\n",
    "\n",
    "#listing the top 10 stages\n",
    "\n",
    "Investor_10_data = Investor_data.head(10)\n",
    "Investor_10_data"
   ]
  },
  {
   "cell_type": "code",
   "execution_count": 84,
   "id": "f30781c1",
   "metadata": {},
   "outputs": [
    {
     "data": {
      "image/png": "[encoded data removed]",
      "text/plain": [
       "<Figure size 720x360 with 1 Axes>"
      ]
     },
     "metadata": {},
     "output_type": "display_data"
    }
   ],
   "source": [
    "fig = plt.figure(figsize = (10, 5))\n",
    "\n",
    "# Create a bar chart using seaborn\n",
    "sns.barplot(x='Amount($)', y='Investor', data=Investor_10_data)\n",
    "\n",
    "# Adding labels and title\n",
    "plt.xlabel(\"Amount($)\")\n",
    "plt.ylabel(\"Investor\")\n",
    "plt.title(\"Top 10 Investors who invested the most\")\n",
    "\n",
    "\n",
    "# set y ticks and labels\n",
    "plt.xticks(rotation = 0)\n",
    "\n",
    "# Show the plot\n",
    "plt.show()"
   ]
  },
  {
   "cell_type": "markdown",
   "id": "436a5fd9",
   "metadata": {},
   "source": [
    "The bar chat above represents the share of how much each investor had invested. Inflection Point Venures topped the list, followed by Venture. Alteria Capital, Sequoia Capital India and Better Capital invested same amount."
   ]
  },
  {
   "cell_type": "markdown",
   "id": "061431f6",
   "metadata": {},
   "source": [
    "# Question 4: Which type of investors invested the least money?"
   ]
  },
  {
   "cell_type": "code",
   "execution_count": 85,
   "id": "0a8bbb64",
   "metadata": {},
   "outputs": [
    {
     "data": {
      "text/html": [
       "<div>\n",
       "<style scoped>\n",
       "    .dataframe tbody tr th:only-of-type {\n",
       "        vertical-align: middle;\n",
       "    }\n",
       "\n",
       "    .dataframe tbody tr th {\n",
       "        vertical-align: top;\n",
       "    }\n",
       "\n",
       "    .dataframe thead th {\n",
       "        text-align: right;\n",
       "    }\n",
       "</style>\n",
       "<table border=\"1\" class=\"dataframe\">\n",
       "  <thead>\n",
       "    <tr style=\"text-align: right;\">\n",
       "      <th></th>\n",
       "      <th>Investor</th>\n",
       "      <th>Amount($)</th>\n",
       "    </tr>\n",
       "  </thead>\n",
       "  <tbody>\n",
       "    <tr>\n",
       "      <th>623</th>\n",
       "      <td>HostelFund</td>\n",
       "      <td>1600000.0</td>\n",
       "    </tr>\n",
       "    <tr>\n",
       "      <th>622</th>\n",
       "      <td>Hornbill Capital Advisers, Plutus Wealth Manag...</td>\n",
       "      <td>1600000.0</td>\n",
       "    </tr>\n",
       "    <tr>\n",
       "      <th>621</th>\n",
       "      <td>Homage Ventures.</td>\n",
       "      <td>1600000.0</td>\n",
       "    </tr>\n",
       "    <tr>\n",
       "      <th>620</th>\n",
       "      <td>Hitesh Oberoi, Lightbox</td>\n",
       "      <td>1600000.0</td>\n",
       "    </tr>\n",
       "    <tr>\n",
       "      <th>1764</th>\n",
       "      <td>velocity.in</td>\n",
       "      <td>1600000.0</td>\n",
       "    </tr>\n",
       "  </tbody>\n",
       "</table>\n",
       "</div>"
      ],
      "text/plain": [
       "                                               Investor  Amount($)\n",
       "623                                          HostelFund  1600000.0\n",
       "622   Hornbill Capital Advisers, Plutus Wealth Manag...  1600000.0\n",
       "621                                    Homage Ventures.  1600000.0\n",
       "620                             Hitesh Oberoi, Lightbox  1600000.0\n",
       "1764                                        velocity.in  1600000.0"
      ]
     },
     "execution_count": 85,
     "metadata": {},
     "output_type": "execute_result"
    }
   ],
   "source": [
    "Investor_data = data_final.groupby('Investor')['Amount($)'].sum().reset_index()\n",
    "Investor_data = Investor_data.sort_values(by = 'Amount($)', ascending = False)\n",
    "\n",
    "#listing the least 5 investors who invested the least money\n",
    "\n",
    "Investor_5_data = Investor_data.tail(5)\n",
    "Investor_5_data"
   ]
  },
  {
   "cell_type": "code",
   "execution_count": 86,
   "id": "d7520724",
   "metadata": {},
   "outputs": [
    {
     "data": {
      "image/png": "[encoded data removed]",
      "text/plain": [
       "<Figure size 720x360 with 1 Axes>"
      ]
     },
     "metadata": {},
     "output_type": "display_data"
    }
   ],
   "source": [
    "fig = plt.figure(figsize = (10, 5))\n",
    "\n",
    "# Create a bar chart using seaborn\n",
    "sns.barplot(x='Amount($)', y='Investor', data=Investor_5_data)\n",
    "\n",
    "# Adding labels and title\n",
    "plt.xlabel(\"Amount($)\")\n",
    "plt.ylabel(\"Investor\")\n",
    "plt.title(\"The least five investors\")\n",
    "\n",
    "\n",
    "# set y ticks and labels\n",
    "plt.xticks(rotation = 90)\n",
    "\n",
    "# Show the plot\n",
    "plt.show()"
   ]
  },
  {
   "cell_type": "markdown",
   "id": "f0eb2af3",
   "metadata": {},
   "source": [
    "# QUESTION 5: What is the percentage of Technology and Non-Technology in the Indian startups?"
   ]
  },
  {
   "cell_type": "markdown",
   "id": "fe27132d",
   "metadata": {},
   "source": [
    "To answer this question we need to define and classify startups that belong to the group of technology and non technology"
   ]
  },
  {
   "cell_type": "code",
   "execution_count": 118,
   "id": "be9fcf43",
   "metadata": {},
   "outputs": [],
   "source": [
    "# Define the keywords\n",
    "keywords = [\"fintech\", \"edtech\", \"e-commerce\",\"robotics\", \"cryptocurrency\", \"esports\",\n",
    "            \"automotive \", \"engineering \",\"telecommunications\", \"electricity\", \n",
    "            \"agritech\", \"healthtech\", \"technology\", \"e-marketplace\", \"social\", \n",
    "            \"tech\", \"gaming\", \"computer\", \"femtech\", \"solar\", \"embedded \", \n",
    "            \"software \", \"saas \", \"e-commerce\", \"analytics\", \"ar\", \"vr\", \"crm\", \"nft\", \n",
    "            \"e-learning\", \"iot\", \"e-commerce\", \"e-mobility\", \"api \", \n",
    "            \"ecommerce\", \"media\", \"ai\",\"sportstech\", \"traveltech\", \"online\", \n",
    "            \"information\", \"automobile\", \"e-commerce\", \"biotechnology\", \"applications\",  \n",
    "            \"it\", \"edtech\", \"energy\", \"computer\", \"agritech\", \"online \", \"virtual \", \n",
    "            \"fintech\", \"internet\", \"automation\", \"cloud\", \"apps\", \"chatbot\", \n",
    "            \"digital\", \"cleantech\", \"ev\", \"manufacturing\",\"networking\", \"mobile \", \n",
    "            \"electronics\", \"logitech\", \"solar\", \"insurtech\",\"finance\", \"electric\", \n",
    "            \"fmcg\", \"intelligence\", \"blockchain\",\"crypto\", \"foodtech \", \"audio \", \n",
    "            \"nanotechnology\", \"biometrics\", \"auto-tech\", \"biotech\", \"data \",  \"autonomous \", \n",
    "            \"AI\", \"machine learning\", \"e-market\", \"proptech\", \"machine learning \"]"
   ]
  },
  {
   "cell_type": "code",
   "execution_count": 119,
   "id": "7a6c7fc6",
   "metadata": {},
   "outputs": [],
   "source": [
    "# the function here groups the keyword in the previous cell into technology and any other to non technology\n",
    "    def check_keywords(string, keywords):\n",
    "        for keyword in keywords:\n",
    "            if keyword in string:\n",
    "                return \"technology\"\n",
    "        return \"non-technology\""
   ]
  },
  {
   "cell_type": "code",
   "execution_count": 120,
   "id": "5da4e99c",
   "metadata": {},
   "outputs": [],
   "source": [
    "# Select only the rows with non-null values in the Sector column\n",
    "data_final = data_final[data_final[\"Sector\"].notnull()]\n",
    "\n",
    "# Convert the Sector column to a Pandas Series\n",
    "sector_series = pd.Series(data_final[\"Sector\"])\n",
    "\n",
    "#startup_funding_Full[\"Sector\"].str.apply(check_keywords, keywords=keywords)\n",
    "\n",
    "# Apply the check_keywords function to the Series\n",
    "sector_series = sector_series.apply(check_keywords, keywords=keywords)\n",
    "\n",
    "# Convert the resulting Series back to a column in the startup_funding_Full DataFrame\n",
    "data_final[\"label\"] = sector_series"
   ]
  },
  {
   "cell_type": "markdown",
   "id": "cecfdbe5",
   "metadata": {},
   "source": [
    "This code prints the share of each label that is technology and non technology "
   ]
  },
  {
   "cell_type": "code",
   "execution_count": 121,
   "id": "85ad7565",
   "metadata": {},
   "outputs": [
    {
     "data": {
      "text/plain": [
       "non-technology    58.415842\n",
       "technology        41.584158\n",
       "Name: label, dtype: float64"
      ]
     },
     "execution_count": 121,
     "metadata": {},
     "output_type": "execute_result"
    }
   ],
   "source": [
    "#Count the occurance of each unique term in the label column \n",
    "\n",
    "data_final[\"label\"].value_counts(normalize=True)*100"
   ]
  },
  {
   "cell_type": "markdown",
   "id": "7f2975ff",
   "metadata": {},
   "source": [
    "From the output we can say that, Technology has the majority share compare to non technology"
   ]
  },
  {
   "cell_type": "code",
   "execution_count": 122,
   "id": "15b63833",
   "metadata": {},
   "outputs": [
    {
     "data": {
      "text/plain": [
       "([<matplotlib.patches.Wedge at 0x20adb9baf40>,\n",
       "  <matplotlib.patches.Wedge at 0x20adbaba4c0>],\n",
       " [Text(-0.2874541312823803, 1.0617768703492707, 'Technology '),\n",
       "  Text(0.2874541312823807, -1.0617768703492707, 'Non-technology ')],\n",
       " [Text(-0.15679316251766195, 0.5791510201905112, '58.4%'),\n",
       "  Text(0.15679316251766215, -0.5791510201905112, '41.6%')])"
      ]
     },
     "execution_count": 122,
     "metadata": {},
     "output_type": "execute_result"
    },
    {
     "data": {
      "image/png": "[encoded data removed]",
      "text/plain": [
       "<Figure size 720x576 with 1 Axes>"
      ]
     },
     "metadata": {},
     "output_type": "display_data"
    }
   ],
   "source": [
    "#A pie chart to show the distribution of the two labels \n",
    "\n",
    "plt.subplots(figsize = (10,8))\n",
    "label = ['Technology ', 'Non-technology ']\n",
    "label_data = data_final[\"label\"].value_counts()\n",
    "\n",
    "plt.pie(label_data, labels=label, autopct='%1.1f%%')"
   ]
  },
  {
   "cell_type": "markdown",
   "id": "cb8ad6dc",
   "metadata": {},
   "source": [
    "The pie chart represent the share these two groups. Technology has about 77% and Non-technology has about 22% as seen in the above pie chart"
   ]
  },
  {
   "cell_type": "markdown",
   "id": "27bcab1d",
   "metadata": {},
   "source": [
    "# Hypothesis Testing\n",
    "\n",
    "NULL: Mumbai is the primary hub of Idian startups\n",
    "Alternative: Mumbai is not the primary hub of Idian startups\n"
   ]
  },
  {
   "cell_type": "markdown",
   "id": "dfa15ff8",
   "metadata": {},
   "source": [
    "To test this hypothesis, we created a grouby with location and company name. We grouped all location and number of startups in that location."
   ]
  },
  {
   "cell_type": "code",
   "execution_count": 124,
   "id": "d98789ed",
   "metadata": {},
   "outputs": [
    {
     "data": {
      "text/html": [
       "<div>\n",
       "<style scoped>\n",
       "    .dataframe tbody tr th:only-of-type {\n",
       "        vertical-align: middle;\n",
       "    }\n",
       "\n",
       "    .dataframe tbody tr th {\n",
       "        vertical-align: top;\n",
       "    }\n",
       "\n",
       "    .dataframe thead th {\n",
       "        text-align: right;\n",
       "    }\n",
       "</style>\n",
       "<table border=\"1\" class=\"dataframe\">\n",
       "  <thead>\n",
       "    <tr style=\"text-align: right;\">\n",
       "      <th></th>\n",
       "      <th>Location</th>\n",
       "      <th>Company Name</th>\n",
       "    </tr>\n",
       "  </thead>\n",
       "  <tbody>\n",
       "    <tr>\n",
       "      <th>0</th>\n",
       "      <td>Ahmadabad</td>\n",
       "      <td>5</td>\n",
       "    </tr>\n",
       "    <tr>\n",
       "      <th>1</th>\n",
       "      <td>Ahmedabad</td>\n",
       "      <td>22</td>\n",
       "    </tr>\n",
       "    <tr>\n",
       "      <th>2</th>\n",
       "      <td>Ambernath</td>\n",
       "      <td>1</td>\n",
       "    </tr>\n",
       "    <tr>\n",
       "      <th>3</th>\n",
       "      <td>Andheri</td>\n",
       "      <td>3</td>\n",
       "    </tr>\n",
       "    <tr>\n",
       "      <th>4</th>\n",
       "      <td>Bangaldesh</td>\n",
       "      <td>1</td>\n",
       "    </tr>\n",
       "    <tr>\n",
       "      <th>5</th>\n",
       "      <td>Bangalore</td>\n",
       "      <td>835</td>\n",
       "    </tr>\n",
       "    <tr>\n",
       "      <th>6</th>\n",
       "      <td>Bangkok</td>\n",
       "      <td>1</td>\n",
       "    </tr>\n",
       "    <tr>\n",
       "      <th>7</th>\n",
       "      <td>Banglore</td>\n",
       "      <td>1</td>\n",
       "    </tr>\n",
       "    <tr>\n",
       "      <th>8</th>\n",
       "      <td>Beijing</td>\n",
       "      <td>1</td>\n",
       "    </tr>\n",
       "    <tr>\n",
       "      <th>9</th>\n",
       "      <td>Belgaum</td>\n",
       "      <td>1</td>\n",
       "    </tr>\n",
       "    <tr>\n",
       "      <th>10</th>\n",
       "      <td>Bengaluru</td>\n",
       "      <td>1</td>\n",
       "    </tr>\n",
       "    <tr>\n",
       "      <th>11</th>\n",
       "      <td>Berlin</td>\n",
       "      <td>1</td>\n",
       "    </tr>\n",
       "    <tr>\n",
       "      <th>12</th>\n",
       "      <td>Bhilwara</td>\n",
       "      <td>1</td>\n",
       "    </tr>\n",
       "    <tr>\n",
       "      <th>13</th>\n",
       "      <td>Bhopal</td>\n",
       "      <td>1</td>\n",
       "    </tr>\n",
       "    <tr>\n",
       "      <th>14</th>\n",
       "      <td>Bhubaneswar</td>\n",
       "      <td>1</td>\n",
       "    </tr>\n",
       "    <tr>\n",
       "      <th>15</th>\n",
       "      <td>Bihar</td>\n",
       "      <td>1</td>\n",
       "    </tr>\n",
       "    <tr>\n",
       "      <th>16</th>\n",
       "      <td>California</td>\n",
       "      <td>5</td>\n",
       "    </tr>\n",
       "    <tr>\n",
       "      <th>17</th>\n",
       "      <td>Chandigarh</td>\n",
       "      <td>9</td>\n",
       "    </tr>\n",
       "    <tr>\n",
       "      <th>18</th>\n",
       "      <td>Chennai</td>\n",
       "      <td>84</td>\n",
       "    </tr>\n",
       "    <tr>\n",
       "      <th>19</th>\n",
       "      <td>Cochin</td>\n",
       "      <td>2</td>\n",
       "    </tr>\n",
       "    <tr>\n",
       "      <th>20</th>\n",
       "      <td>Coimbatore</td>\n",
       "      <td>4</td>\n",
       "    </tr>\n",
       "    <tr>\n",
       "      <th>21</th>\n",
       "      <td>Computer Games</td>\n",
       "      <td>2</td>\n",
       "    </tr>\n",
       "    <tr>\n",
       "      <th>22</th>\n",
       "      <td>Dehradun</td>\n",
       "      <td>1</td>\n",
       "    </tr>\n",
       "    <tr>\n",
       "      <th>23</th>\n",
       "      <td>Delhi</td>\n",
       "      <td>66</td>\n",
       "    </tr>\n",
       "    <tr>\n",
       "      <th>24</th>\n",
       "      <td>Dhingsara</td>\n",
       "      <td>1</td>\n",
       "    </tr>\n",
       "    <tr>\n",
       "      <th>25</th>\n",
       "      <td>Faridabad</td>\n",
       "      <td>3</td>\n",
       "    </tr>\n",
       "    <tr>\n",
       "      <th>26</th>\n",
       "      <td>Food &amp; Beverages</td>\n",
       "      <td>2</td>\n",
       "    </tr>\n",
       "    <tr>\n",
       "      <th>27</th>\n",
       "      <td>Frisco</td>\n",
       "      <td>1</td>\n",
       "    </tr>\n",
       "    <tr>\n",
       "      <th>28</th>\n",
       "      <td>Gandhinagar</td>\n",
       "      <td>1</td>\n",
       "    </tr>\n",
       "    <tr>\n",
       "      <th>29</th>\n",
       "      <td>Ghaziabad</td>\n",
       "      <td>2</td>\n",
       "    </tr>\n",
       "    <tr>\n",
       "      <th>30</th>\n",
       "      <td>Goa</td>\n",
       "      <td>4</td>\n",
       "    </tr>\n",
       "    <tr>\n",
       "      <th>31</th>\n",
       "      <td>Gujarat</td>\n",
       "      <td>8</td>\n",
       "    </tr>\n",
       "    <tr>\n",
       "      <th>32</th>\n",
       "      <td>Gurgaon</td>\n",
       "      <td>25</td>\n",
       "    </tr>\n",
       "    <tr>\n",
       "      <th>33</th>\n",
       "      <td>Gurugram</td>\n",
       "      <td>224</td>\n",
       "    </tr>\n",
       "    <tr>\n",
       "      <th>34</th>\n",
       "      <td>Gurugram\\t#REF!</td>\n",
       "      <td>1</td>\n",
       "    </tr>\n",
       "    <tr>\n",
       "      <th>35</th>\n",
       "      <td>Guwahati</td>\n",
       "      <td>1</td>\n",
       "    </tr>\n",
       "    <tr>\n",
       "      <th>36</th>\n",
       "      <td>Haryana</td>\n",
       "      <td>14</td>\n",
       "    </tr>\n",
       "    <tr>\n",
       "      <th>37</th>\n",
       "      <td>Hyderabad</td>\n",
       "      <td>56</td>\n",
       "    </tr>\n",
       "    <tr>\n",
       "      <th>38</th>\n",
       "      <td>Hyderebad</td>\n",
       "      <td>1</td>\n",
       "    </tr>\n",
       "    <tr>\n",
       "      <th>39</th>\n",
       "      <td>Indore</td>\n",
       "      <td>9</td>\n",
       "    </tr>\n",
       "    <tr>\n",
       "      <th>40</th>\n",
       "      <td>Information Technology &amp; Services</td>\n",
       "      <td>1</td>\n",
       "    </tr>\n",
       "    <tr>\n",
       "      <th>41</th>\n",
       "      <td>Irvine</td>\n",
       "      <td>1</td>\n",
       "    </tr>\n",
       "    <tr>\n",
       "      <th>42</th>\n",
       "      <td>Jaipur</td>\n",
       "      <td>21</td>\n",
       "    </tr>\n",
       "    <tr>\n",
       "      <th>43</th>\n",
       "      <td>Jharkhand</td>\n",
       "      <td>1</td>\n",
       "    </tr>\n",
       "    <tr>\n",
       "      <th>44</th>\n",
       "      <td>Jiaxing</td>\n",
       "      <td>1</td>\n",
       "    </tr>\n",
       "    <tr>\n",
       "      <th>45</th>\n",
       "      <td>Jodhpur</td>\n",
       "      <td>4</td>\n",
       "    </tr>\n",
       "    <tr>\n",
       "      <th>46</th>\n",
       "      <td>Kanpur</td>\n",
       "      <td>2</td>\n",
       "    </tr>\n",
       "    <tr>\n",
       "      <th>47</th>\n",
       "      <td>Kerala</td>\n",
       "      <td>3</td>\n",
       "    </tr>\n",
       "    <tr>\n",
       "      <th>48</th>\n",
       "      <td>Kochi</td>\n",
       "      <td>5</td>\n",
       "    </tr>\n",
       "    <tr>\n",
       "      <th>49</th>\n",
       "      <td>Kolkata</td>\n",
       "      <td>16</td>\n",
       "    </tr>\n",
       "    <tr>\n",
       "      <th>50</th>\n",
       "      <td>Kottayam</td>\n",
       "      <td>1</td>\n",
       "    </tr>\n",
       "    <tr>\n",
       "      <th>51</th>\n",
       "      <td>London</td>\n",
       "      <td>2</td>\n",
       "    </tr>\n",
       "    <tr>\n",
       "      <th>52</th>\n",
       "      <td>Lucknow</td>\n",
       "      <td>3</td>\n",
       "    </tr>\n",
       "    <tr>\n",
       "      <th>53</th>\n",
       "      <td>Ludhiana</td>\n",
       "      <td>1</td>\n",
       "    </tr>\n",
       "    <tr>\n",
       "      <th>54</th>\n",
       "      <td>Mangalore</td>\n",
       "      <td>1</td>\n",
       "    </tr>\n",
       "    <tr>\n",
       "      <th>55</th>\n",
       "      <td>Mohali</td>\n",
       "      <td>1</td>\n",
       "    </tr>\n",
       "    <tr>\n",
       "      <th>56</th>\n",
       "      <td>Mountain View</td>\n",
       "      <td>1</td>\n",
       "    </tr>\n",
       "    <tr>\n",
       "      <th>57</th>\n",
       "      <td>Mumbai</td>\n",
       "      <td>355</td>\n",
       "    </tr>\n",
       "    <tr>\n",
       "      <th>58</th>\n",
       "      <td>Nagpur</td>\n",
       "      <td>1</td>\n",
       "    </tr>\n",
       "    <tr>\n",
       "      <th>59</th>\n",
       "      <td>New Delhi</td>\n",
       "      <td>175</td>\n",
       "    </tr>\n",
       "    <tr>\n",
       "      <th>60</th>\n",
       "      <td>New York</td>\n",
       "      <td>4</td>\n",
       "    </tr>\n",
       "    <tr>\n",
       "      <th>61</th>\n",
       "      <td>Newcastle Upon Tyne</td>\n",
       "      <td>1</td>\n",
       "    </tr>\n",
       "    <tr>\n",
       "      <th>62</th>\n",
       "      <td>Noida</td>\n",
       "      <td>69</td>\n",
       "    </tr>\n",
       "    <tr>\n",
       "      <th>63</th>\n",
       "      <td>Odisha</td>\n",
       "      <td>1</td>\n",
       "    </tr>\n",
       "    <tr>\n",
       "      <th>64</th>\n",
       "      <td>Online Media\\t#REF!</td>\n",
       "      <td>1</td>\n",
       "    </tr>\n",
       "    <tr>\n",
       "      <th>65</th>\n",
       "      <td>Palmwoods</td>\n",
       "      <td>1</td>\n",
       "    </tr>\n",
       "    <tr>\n",
       "      <th>66</th>\n",
       "      <td>Panaji</td>\n",
       "      <td>1</td>\n",
       "    </tr>\n",
       "    <tr>\n",
       "      <th>67</th>\n",
       "      <td>Paris</td>\n",
       "      <td>1</td>\n",
       "    </tr>\n",
       "    <tr>\n",
       "      <th>68</th>\n",
       "      <td>Patna</td>\n",
       "      <td>2</td>\n",
       "    </tr>\n",
       "    <tr>\n",
       "      <th>69</th>\n",
       "      <td>Pharmaceuticals\\t#REF!</td>\n",
       "      <td>2</td>\n",
       "    </tr>\n",
       "    <tr>\n",
       "      <th>70</th>\n",
       "      <td>Plano</td>\n",
       "      <td>1</td>\n",
       "    </tr>\n",
       "    <tr>\n",
       "      <th>71</th>\n",
       "      <td>Powai</td>\n",
       "      <td>1</td>\n",
       "    </tr>\n",
       "    <tr>\n",
       "      <th>72</th>\n",
       "      <td>Pune</td>\n",
       "      <td>79</td>\n",
       "    </tr>\n",
       "    <tr>\n",
       "      <th>73</th>\n",
       "      <td>Rajastan</td>\n",
       "      <td>1</td>\n",
       "    </tr>\n",
       "    <tr>\n",
       "      <th>74</th>\n",
       "      <td>Rajasthan</td>\n",
       "      <td>1</td>\n",
       "    </tr>\n",
       "    <tr>\n",
       "      <th>75</th>\n",
       "      <td>Rajsamand</td>\n",
       "      <td>1</td>\n",
       "    </tr>\n",
       "    <tr>\n",
       "      <th>76</th>\n",
       "      <td>Ranchi</td>\n",
       "      <td>1</td>\n",
       "    </tr>\n",
       "    <tr>\n",
       "      <th>77</th>\n",
       "      <td>Roorkee</td>\n",
       "      <td>1</td>\n",
       "    </tr>\n",
       "    <tr>\n",
       "      <th>78</th>\n",
       "      <td>Samastipur</td>\n",
       "      <td>1</td>\n",
       "    </tr>\n",
       "    <tr>\n",
       "      <th>79</th>\n",
       "      <td>Samsitpur</td>\n",
       "      <td>1</td>\n",
       "    </tr>\n",
       "    <tr>\n",
       "      <th>80</th>\n",
       "      <td>San Franciscao</td>\n",
       "      <td>1</td>\n",
       "    </tr>\n",
       "    <tr>\n",
       "      <th>81</th>\n",
       "      <td>San Francisco</td>\n",
       "      <td>6</td>\n",
       "    </tr>\n",
       "    <tr>\n",
       "      <th>82</th>\n",
       "      <td>San Francisco Bay Area</td>\n",
       "      <td>3</td>\n",
       "    </tr>\n",
       "    <tr>\n",
       "      <th>83</th>\n",
       "      <td>San Ramon</td>\n",
       "      <td>1</td>\n",
       "    </tr>\n",
       "    <tr>\n",
       "      <th>84</th>\n",
       "      <td>Satara</td>\n",
       "      <td>1</td>\n",
       "    </tr>\n",
       "    <tr>\n",
       "      <th>85</th>\n",
       "      <td>Seattle</td>\n",
       "      <td>1</td>\n",
       "    </tr>\n",
       "    <tr>\n",
       "      <th>86</th>\n",
       "      <td>Seoul</td>\n",
       "      <td>1</td>\n",
       "    </tr>\n",
       "    <tr>\n",
       "      <th>87</th>\n",
       "      <td>Shanghai</td>\n",
       "      <td>1</td>\n",
       "    </tr>\n",
       "    <tr>\n",
       "      <th>88</th>\n",
       "      <td>Silvassa</td>\n",
       "      <td>1</td>\n",
       "    </tr>\n",
       "    <tr>\n",
       "      <th>89</th>\n",
       "      <td>Singapore</td>\n",
       "      <td>4</td>\n",
       "    </tr>\n",
       "    <tr>\n",
       "      <th>90</th>\n",
       "      <td>Small Towns</td>\n",
       "      <td>1</td>\n",
       "    </tr>\n",
       "    <tr>\n",
       "      <th>91</th>\n",
       "      <td>Surat</td>\n",
       "      <td>2</td>\n",
       "    </tr>\n",
       "    <tr>\n",
       "      <th>92</th>\n",
       "      <td>Sydney</td>\n",
       "      <td>2</td>\n",
       "    </tr>\n",
       "    <tr>\n",
       "      <th>93</th>\n",
       "      <td>Tamil Nadu</td>\n",
       "      <td>1</td>\n",
       "    </tr>\n",
       "    <tr>\n",
       "      <th>94</th>\n",
       "      <td>Tangerang</td>\n",
       "      <td>1</td>\n",
       "    </tr>\n",
       "    <tr>\n",
       "      <th>95</th>\n",
       "      <td>Telangana</td>\n",
       "      <td>2</td>\n",
       "    </tr>\n",
       "    <tr>\n",
       "      <th>96</th>\n",
       "      <td>Telugana</td>\n",
       "      <td>1</td>\n",
       "    </tr>\n",
       "    <tr>\n",
       "      <th>97</th>\n",
       "      <td>Thane</td>\n",
       "      <td>12</td>\n",
       "    </tr>\n",
       "    <tr>\n",
       "      <th>98</th>\n",
       "      <td>The Nilgiris</td>\n",
       "      <td>1</td>\n",
       "    </tr>\n",
       "    <tr>\n",
       "      <th>99</th>\n",
       "      <td>Thiruvananthapuram</td>\n",
       "      <td>1</td>\n",
       "    </tr>\n",
       "    <tr>\n",
       "      <th>100</th>\n",
       "      <td>Tirunelveli</td>\n",
       "      <td>1</td>\n",
       "    </tr>\n",
       "    <tr>\n",
       "      <th>101</th>\n",
       "      <td>Trivandrum</td>\n",
       "      <td>2</td>\n",
       "    </tr>\n",
       "    <tr>\n",
       "      <th>102</th>\n",
       "      <td>Tumkur</td>\n",
       "      <td>1</td>\n",
       "    </tr>\n",
       "    <tr>\n",
       "      <th>103</th>\n",
       "      <td>Uttar Pradesh</td>\n",
       "      <td>1</td>\n",
       "    </tr>\n",
       "    <tr>\n",
       "      <th>104</th>\n",
       "      <td>Uttar pradesh</td>\n",
       "      <td>1</td>\n",
       "    </tr>\n",
       "    <tr>\n",
       "      <th>105</th>\n",
       "      <td>Vadodara</td>\n",
       "      <td>1</td>\n",
       "    </tr>\n",
       "    <tr>\n",
       "      <th>106</th>\n",
       "      <td>Warangal</td>\n",
       "      <td>1</td>\n",
       "    </tr>\n",
       "  </tbody>\n",
       "</table>\n",
       "</div>"
      ],
      "text/plain": [
       "                              Location  Company Name\n",
       "0                            Ahmadabad             5\n",
       "1                            Ahmedabad            22\n",
       "2                            Ambernath             1\n",
       "3                              Andheri             3\n",
       "4                           Bangaldesh             1\n",
       "5                            Bangalore           835\n",
       "6                              Bangkok             1\n",
       "7                             Banglore             1\n",
       "8                              Beijing             1\n",
       "9                              Belgaum             1\n",
       "10                           Bengaluru             1\n",
       "11                              Berlin             1\n",
       "12                            Bhilwara             1\n",
       "13                              Bhopal             1\n",
       "14                         Bhubaneswar             1\n",
       "15                               Bihar             1\n",
       "16                          California             5\n",
       "17                          Chandigarh             9\n",
       "18                             Chennai            84\n",
       "19                              Cochin             2\n",
       "20                          Coimbatore             4\n",
       "21                      Computer Games             2\n",
       "22                            Dehradun             1\n",
       "23                               Delhi            66\n",
       "24                           Dhingsara             1\n",
       "25                           Faridabad             3\n",
       "26                    Food & Beverages             2\n",
       "27                              Frisco             1\n",
       "28                         Gandhinagar             1\n",
       "29                           Ghaziabad             2\n",
       "30                                 Goa             4\n",
       "31                             Gujarat             8\n",
       "32                             Gurgaon            25\n",
       "33                            Gurugram           224\n",
       "34                     Gurugram\\t#REF!             1\n",
       "35                            Guwahati             1\n",
       "36                             Haryana            14\n",
       "37                           Hyderabad            56\n",
       "38                           Hyderebad             1\n",
       "39                              Indore             9\n",
       "40   Information Technology & Services             1\n",
       "41                              Irvine             1\n",
       "42                              Jaipur            21\n",
       "43                           Jharkhand             1\n",
       "44                             Jiaxing             1\n",
       "45                             Jodhpur             4\n",
       "46                              Kanpur             2\n",
       "47                              Kerala             3\n",
       "48                               Kochi             5\n",
       "49                             Kolkata            16\n",
       "50                            Kottayam             1\n",
       "51                              London             2\n",
       "52                             Lucknow             3\n",
       "53                            Ludhiana             1\n",
       "54                           Mangalore             1\n",
       "55                              Mohali             1\n",
       "56                       Mountain View             1\n",
       "57                              Mumbai           355\n",
       "58                              Nagpur             1\n",
       "59                           New Delhi           175\n",
       "60                            New York             4\n",
       "61                 Newcastle Upon Tyne             1\n",
       "62                               Noida            69\n",
       "63                              Odisha             1\n",
       "64                 Online Media\\t#REF!             1\n",
       "65                           Palmwoods             1\n",
       "66                              Panaji             1\n",
       "67                               Paris             1\n",
       "68                               Patna             2\n",
       "69              Pharmaceuticals\\t#REF!             2\n",
       "70                               Plano             1\n",
       "71                               Powai             1\n",
       "72                                Pune            79\n",
       "73                            Rajastan             1\n",
       "74                           Rajasthan             1\n",
       "75                           Rajsamand             1\n",
       "76                              Ranchi             1\n",
       "77                             Roorkee             1\n",
       "78                          Samastipur             1\n",
       "79                           Samsitpur             1\n",
       "80                      San Franciscao             1\n",
       "81                       San Francisco             6\n",
       "82              San Francisco Bay Area             3\n",
       "83                           San Ramon             1\n",
       "84                              Satara             1\n",
       "85                             Seattle             1\n",
       "86                               Seoul             1\n",
       "87                            Shanghai             1\n",
       "88                            Silvassa             1\n",
       "89                           Singapore             4\n",
       "90                         Small Towns             1\n",
       "91                               Surat             2\n",
       "92                              Sydney             2\n",
       "93                          Tamil Nadu             1\n",
       "94                           Tangerang             1\n",
       "95                           Telangana             2\n",
       "96                            Telugana             1\n",
       "97                               Thane            12\n",
       "98                        The Nilgiris             1\n",
       "99                  Thiruvananthapuram             1\n",
       "100                        Tirunelveli             1\n",
       "101                         Trivandrum             2\n",
       "102                             Tumkur             1\n",
       "103                      Uttar Pradesh             1\n",
       "104                      Uttar pradesh             1\n",
       "105                           Vadodara             1\n",
       "106                           Warangal             1"
      ]
     },
     "execution_count": 124,
     "metadata": {},
     "output_type": "execute_result"
    }
   ],
   "source": [
    "df_startups_per_city = data_final[['Location', 'Company Name']]\n",
    "df_grouped_startups_per_city= df_startups_per_city.groupby('Location').count().reset_index()\n",
    "df_grouped_startups_per_city\n",
    "\n",
    "#.groupby('Investor')['Amount($)'].sum()\n",
    "\n",
    "#Investor_data = data_final.groupby('Investor')['Amount($)'].sum().reset_index()\n",
    "#Investor_data = Investor_data.sort_values(by = 'Amount($)', ascending = False)"
   ]
  },
  {
   "cell_type": "code",
   "execution_count": 97,
   "id": "147681a0",
   "metadata": {},
   "outputs": [
    {
     "data": {
      "text/html": [
       "<div>\n",
       "<style scoped>\n",
       "    .dataframe tbody tr th:only-of-type {\n",
       "        vertical-align: middle;\n",
       "    }\n",
       "\n",
       "    .dataframe tbody tr th {\n",
       "        vertical-align: top;\n",
       "    }\n",
       "\n",
       "    .dataframe thead th {\n",
       "        text-align: right;\n",
       "    }\n",
       "</style>\n",
       "<table border=\"1\" class=\"dataframe\">\n",
       "  <thead>\n",
       "    <tr style=\"text-align: right;\">\n",
       "      <th></th>\n",
       "      <th>Location</th>\n",
       "      <th>Startup_counts</th>\n",
       "    </tr>\n",
       "  </thead>\n",
       "  <tbody>\n",
       "    <tr>\n",
       "      <th>0</th>\n",
       "      <td>Ahmadabad</td>\n",
       "      <td>5</td>\n",
       "    </tr>\n",
       "    <tr>\n",
       "      <th>1</th>\n",
       "      <td>Ahmedabad</td>\n",
       "      <td>22</td>\n",
       "    </tr>\n",
       "    <tr>\n",
       "      <th>2</th>\n",
       "      <td>Ambernath</td>\n",
       "      <td>1</td>\n",
       "    </tr>\n",
       "    <tr>\n",
       "      <th>3</th>\n",
       "      <td>Andheri</td>\n",
       "      <td>3</td>\n",
       "    </tr>\n",
       "    <tr>\n",
       "      <th>4</th>\n",
       "      <td>Bangaldesh</td>\n",
       "      <td>1</td>\n",
       "    </tr>\n",
       "  </tbody>\n",
       "</table>\n",
       "</div>"
      ],
      "text/plain": [
       "     Location  Startup_counts\n",
       "0   Ahmadabad               5\n",
       "1   Ahmedabad              22\n",
       "2   Ambernath               1\n",
       "3     Andheri               3\n",
       "4  Bangaldesh               1"
      ]
     },
     "execution_count": 97,
     "metadata": {},
     "output_type": "execute_result"
    }
   ],
   "source": [
    "df_grouped_startups_per_city.rename(columns={'Company Name':'Startup_counts'}, inplace = True)\n",
    "df_grouped_startups_per_city"
   ]
  },
  {
   "cell_type": "code",
   "execution_count": 100,
   "id": "8634e745",
   "metadata": {},
   "outputs": [
    {
     "data": {
      "text/html": [
       "<div>\n",
       "<style scoped>\n",
       "    .dataframe tbody tr th:only-of-type {\n",
       "        vertical-align: middle;\n",
       "    }\n",
       "\n",
       "    .dataframe tbody tr th {\n",
       "        vertical-align: top;\n",
       "    }\n",
       "\n",
       "    .dataframe thead th {\n",
       "        text-align: right;\n",
       "    }\n",
       "</style>\n",
       "<table border=\"1\" class=\"dataframe\">\n",
       "  <thead>\n",
       "    <tr style=\"text-align: right;\">\n",
       "      <th></th>\n",
       "      <th>Location</th>\n",
       "      <th>Startup_counts</th>\n",
       "    </tr>\n",
       "  </thead>\n",
       "  <tbody>\n",
       "    <tr>\n",
       "      <th>5</th>\n",
       "      <td>Bangalore</td>\n",
       "      <td>835</td>\n",
       "    </tr>\n",
       "    <tr>\n",
       "      <th>57</th>\n",
       "      <td>Mumbai</td>\n",
       "      <td>355</td>\n",
       "    </tr>\n",
       "    <tr>\n",
       "      <th>33</th>\n",
       "      <td>Gurugram</td>\n",
       "      <td>224</td>\n",
       "    </tr>\n",
       "    <tr>\n",
       "      <th>59</th>\n",
       "      <td>New Delhi</td>\n",
       "      <td>175</td>\n",
       "    </tr>\n",
       "    <tr>\n",
       "      <th>18</th>\n",
       "      <td>Chennai</td>\n",
       "      <td>84</td>\n",
       "    </tr>\n",
       "    <tr>\n",
       "      <th>72</th>\n",
       "      <td>Pune</td>\n",
       "      <td>79</td>\n",
       "    </tr>\n",
       "    <tr>\n",
       "      <th>62</th>\n",
       "      <td>Noida</td>\n",
       "      <td>69</td>\n",
       "    </tr>\n",
       "    <tr>\n",
       "      <th>23</th>\n",
       "      <td>Delhi</td>\n",
       "      <td>66</td>\n",
       "    </tr>\n",
       "    <tr>\n",
       "      <th>37</th>\n",
       "      <td>Hyderabad</td>\n",
       "      <td>56</td>\n",
       "    </tr>\n",
       "    <tr>\n",
       "      <th>32</th>\n",
       "      <td>Gurgaon</td>\n",
       "      <td>25</td>\n",
       "    </tr>\n",
       "  </tbody>\n",
       "</table>\n",
       "</div>"
      ],
      "text/plain": [
       "     Location  Startup_counts\n",
       "5   Bangalore             835\n",
       "57     Mumbai             355\n",
       "33   Gurugram             224\n",
       "59  New Delhi             175\n",
       "18    Chennai              84\n",
       "72       Pune              79\n",
       "62      Noida              69\n",
       "23      Delhi              66\n",
       "37  Hyderabad              56\n",
       "32    Gurgaon              25"
      ]
     },
     "execution_count": 100,
     "metadata": {},
     "output_type": "execute_result"
    }
   ],
   "source": [
    "startup_top_10=df_grouped_startups_per_city.sort_values(by='Startup_counts',ascending=False)[:10]\n",
    "startup_top_10.head(10)\n",
    "\n",
    "#Investor_data = Investor_data.sort_values(by = 'Amount($)', ascending = False)"
   ]
  },
  {
   "cell_type": "code",
   "execution_count": 101,
   "id": "337dbecf",
   "metadata": {},
   "outputs": [
    {
     "data": {
      "image/png": "[encoded data removed]",
      "text/plain": [
       "<Figure size 720x360 with 1 Axes>"
      ]
     },
     "metadata": {},
     "output_type": "display_data"
    }
   ],
   "source": [
    "fig = plt.figure(figsize = (10, 5))\n",
    "\n",
    "# Create a bar chart using seaborn\n",
    "sns.barplot(x='Location', y='Startup_counts', data=startup_top_10)\n",
    "\n",
    "# Adding labels and title\n",
    "plt.xlabel(\"Location\")\n",
    "plt.ylabel(\"Startup_counts\")\n",
    "plt.title(\"Top 10 city hubs\")\n",
    "\n",
    "\n",
    "# set y ticks and labels\n",
    "plt.xticks(rotation = 0)\n",
    "\n",
    "# Show the plot\n",
    "plt.show()"
   ]
  },
  {
   "cell_type": "code",
   "execution_count": 104,
   "id": "dd06aa8e",
   "metadata": {},
   "outputs": [],
   "source": [
    "df_pie=startup_top_10.head()"
   ]
  },
  {
   "cell_type": "code",
   "execution_count": 105,
   "id": "51de0d98",
   "metadata": {},
   "outputs": [
    {
     "data": {
      "text/html": [
       "<div>\n",
       "<style scoped>\n",
       "    .dataframe tbody tr th:only-of-type {\n",
       "        vertical-align: middle;\n",
       "    }\n",
       "\n",
       "    .dataframe tbody tr th {\n",
       "        vertical-align: top;\n",
       "    }\n",
       "\n",
       "    .dataframe thead th {\n",
       "        text-align: right;\n",
       "    }\n",
       "</style>\n",
       "<table border=\"1\" class=\"dataframe\">\n",
       "  <thead>\n",
       "    <tr style=\"text-align: right;\">\n",
       "      <th></th>\n",
       "      <th>Location</th>\n",
       "      <th>Startup_counts</th>\n",
       "    </tr>\n",
       "  </thead>\n",
       "  <tbody>\n",
       "    <tr>\n",
       "      <th>5</th>\n",
       "      <td>Bangalore</td>\n",
       "      <td>835</td>\n",
       "    </tr>\n",
       "    <tr>\n",
       "      <th>57</th>\n",
       "      <td>Mumbai</td>\n",
       "      <td>355</td>\n",
       "    </tr>\n",
       "    <tr>\n",
       "      <th>33</th>\n",
       "      <td>Gurugram</td>\n",
       "      <td>224</td>\n",
       "    </tr>\n",
       "    <tr>\n",
       "      <th>59</th>\n",
       "      <td>New Delhi</td>\n",
       "      <td>175</td>\n",
       "    </tr>\n",
       "    <tr>\n",
       "      <th>18</th>\n",
       "      <td>Chennai</td>\n",
       "      <td>84</td>\n",
       "    </tr>\n",
       "  </tbody>\n",
       "</table>\n",
       "</div>"
      ],
      "text/plain": [
       "     Location  Startup_counts\n",
       "5   Bangalore             835\n",
       "57     Mumbai             355\n",
       "33   Gurugram             224\n",
       "59  New Delhi             175\n",
       "18    Chennai              84"
      ]
     },
     "execution_count": 105,
     "metadata": {},
     "output_type": "execute_result"
    }
   ],
   "source": [
    "df_pie"
   ]
  },
  {
   "cell_type": "code",
   "execution_count": 107,
   "id": "48e9913a",
   "metadata": {},
   "outputs": [
    {
     "name": "stdout",
     "output_type": "stream",
     "text": [
      "<class 'pandas.core.frame.DataFrame'>\n",
      "Int64Index: 5 entries, 5 to 18\n",
      "Data columns (total 2 columns):\n",
      " #   Column          Non-Null Count  Dtype \n",
      "---  ------          --------------  ----- \n",
      " 0   Location        5 non-null      object\n",
      " 1   Startup_counts  5 non-null      int64 \n",
      "dtypes: int64(1), object(1)\n",
      "memory usage: 120.0+ bytes\n"
     ]
    }
   ],
   "source": [
    "df_pie.info()"
   ]
  },
  {
   "cell_type": "code",
   "execution_count": 116,
   "id": "a5fa077f",
   "metadata": {},
   "outputs": [],
   "source": [
    "df_pie=df_pie[:2]"
   ]
  },
  {
   "cell_type": "code",
   "execution_count": 117,
   "id": "468516a0",
   "metadata": {},
   "outputs": [
    {
     "data": {
      "image/png": "[encoded data removed]",
      "text/plain": [
       "<Figure size 432x288 with 1 Axes>"
      ]
     },
     "metadata": {},
     "output_type": "display_data"
    }
   ],
   "source": [
    "plt.pie(df_pie['Startup_counts'], labels=df_pie['Location'], autopct='%1.1f%%')\n",
    "\n",
    "\n",
    "plt.show()\n",
    "#plt.pie(label_data, labels=label, autopct='%1.1f%%')"
   ]
  },
  {
   "cell_type": "markdown",
   "id": "25c96353",
   "metadata": {},
   "source": [
    "From the above charts, clearly it can been seen that Mumbai has fewer startup as compre to Bangalore. \n",
    "Infact Bangalore had twice more startups than what Mumbai had.\n",
    "We therefore rejected the NULL hyposthesis. This is beacause there is enough evidence to do so.\n",
    "\n",
    "Bangalore is the primary hub for startups in Indian."
   ]
  }
 ],
 "metadata": {
  "kernelspec": {
   "display_name": "Python 3 (ipykernel)",
   "language": "python",
   "name": "python3"
  },
  "language_info": {
   "codemirror_mode": {
    "name": "ipython",
    "version": 3
   },
   "file_extension": ".py",
   "mimetype": "text/x-python",
   "name": "python",
   "nbconvert_exporter": "python",
   "pygments_lexer": "ipython3",
   "version": "3.9.13"
  }
 },
 "nbformat": 4,
 "nbformat_minor": 5
}
